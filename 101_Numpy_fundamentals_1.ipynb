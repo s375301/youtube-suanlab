{
  "nbformat": 4,
  "nbformat_minor": 0,
  "metadata": {
    "colab": {
      "name": "101-Numpy-fundamentals-1.ipynb",
      "provenance": [],
      "authorship_tag": "ABX9TyMnT7OdeJ8MZNckM1+/uUHe"
    },
    "kernelspec": {
      "name": "python3",
      "display_name": "Python 3"
    },
    "language_info": {
      "name": "python"
    }
  },
  "cells": [
    {
      "cell_type": "markdown",
      "metadata": {
        "id": "p6uunB_8gtKH"
      },
      "source": [
        "# Numpy"
      ]
    },
    {
      "cell_type": "markdown",
      "metadata": {
        "id": "_ePpM6zyg0r5"
      },
      "source": [
        "- Numerical Python\n",
        "- N차원 배열 객체\n",
        "- 정교한 브로드캐스팅(broadcasting) 기능\n",
        "- 파이썬의 자료형 list와 비슷하나, 더 빠르고 메모리를 효율적으로 관리\n",
        "- 반복문 없이 데이터 배열에 대한 처리 지원\n",
        "- 참고: [Numpy fundamentals](https://numpy.org/doc/stable/user/basics.html)"
      ]
    },
    {
      "cell_type": "code",
      "metadata": {
        "id": "2hUi5pIMhJ38"
      },
      "source": [
        "# import\n",
        "import numpy as np"
      ],
      "execution_count": 1,
      "outputs": []
    },
    {
      "cell_type": "code",
      "metadata": {
        "colab": {
          "base_uri": "https://localhost:8080/",
          "height": 35
        },
        "id": "LAYVFfbEhYq6",
        "outputId": "55d693c4-6c39-41ea-dd8f-9157f7f27716"
      },
      "source": [
        "np.__version__"
      ],
      "execution_count": 2,
      "outputs": [
        {
          "output_type": "execute_result",
          "data": {
            "application/vnd.google.colaboratory.intrinsic+json": {
              "type": "string"
            },
            "text/plain": [
              "'1.19.5'"
            ]
          },
          "metadata": {},
          "execution_count": 2
        }
      ]
    },
    {
      "cell_type": "markdown",
      "metadata": {
        "id": "NK5376OuTt_A"
      },
      "source": [
        "## Array creation"
      ]
    },
    {
      "cell_type": "markdown",
      "metadata": {
        "id": "yZSKROdFha4-"
      },
      "source": [
        "#### Converting Python sequences to Numpy Arrays"
      ]
    },
    {
      "cell_type": "code",
      "metadata": {
        "colab": {
          "base_uri": "https://localhost:8080/"
        },
        "id": "tdJQrNueh1fn",
        "outputId": "05c44c1b-50ab-4cd4-e36c-11cfd99435cb"
      },
      "source": [
        "# 1D array\n",
        "a1 = np.array([1, 2, 3, 4, 5])\n",
        "a1"
      ],
      "execution_count": 3,
      "outputs": [
        {
          "output_type": "execute_result",
          "data": {
            "text/plain": [
              "array([1, 2, 3, 4, 5])"
            ]
          },
          "metadata": {},
          "execution_count": 3
        }
      ]
    },
    {
      "cell_type": "code",
      "metadata": {
        "colab": {
          "base_uri": "https://localhost:8080/"
        },
        "id": "zZLiw0XBh75y",
        "outputId": "138f6caf-1759-4c4b-d4c7-e6dcea35684c"
      },
      "source": [
        "print(a1)\n",
        "print(type(a1))\n",
        "print(a1.shape)\n",
        "print(a1[0], a1[1], a1[2], a1[3], a1[4]) # Indexing"
      ],
      "execution_count": 4,
      "outputs": [
        {
          "output_type": "stream",
          "name": "stdout",
          "text": [
            "[1 2 3 4 5]\n",
            "<class 'numpy.ndarray'>\n",
            "(5,)\n",
            "1 2 3 4 5\n"
          ]
        }
      ]
    },
    {
      "cell_type": "code",
      "metadata": {
        "colab": {
          "base_uri": "https://localhost:8080/"
        },
        "id": "DSjua4mJiDOY",
        "outputId": "09f394a8-db50-409f-de42-abc9a0dc5431"
      },
      "source": [
        "# insert\n",
        "a1[0] = 4\n",
        "a1[2] = 5\n",
        "a1[2] = 6\n",
        "a1"
      ],
      "execution_count": 5,
      "outputs": [
        {
          "output_type": "execute_result",
          "data": {
            "text/plain": [
              "array([4, 2, 6, 4, 5])"
            ]
          },
          "metadata": {},
          "execution_count": 5
        }
      ]
    },
    {
      "cell_type": "code",
      "metadata": {
        "colab": {
          "base_uri": "https://localhost:8080/"
        },
        "id": "D2O4Zx7wihx-",
        "outputId": "18d0a326-3a24-49e6-e597-88a98a75b823"
      },
      "source": [
        "# 2D array\n",
        "a2 = np.array([ [1,2,3], [4,5,6], [7,8,9] ])\n",
        "a2"
      ],
      "execution_count": 6,
      "outputs": [
        {
          "output_type": "execute_result",
          "data": {
            "text/plain": [
              "array([[1, 2, 3],\n",
              "       [4, 5, 6],\n",
              "       [7, 8, 9]])"
            ]
          },
          "metadata": {},
          "execution_count": 6
        }
      ]
    },
    {
      "cell_type": "code",
      "metadata": {
        "colab": {
          "base_uri": "https://localhost:8080/"
        },
        "id": "FMtccWCLiqGD",
        "outputId": "6b6c40da-8ac1-482d-d9c8-19bb233811f2"
      },
      "source": [
        "print(a2)\n",
        "print(type(a2))\n",
        "print(a2.shape)"
      ],
      "execution_count": 7,
      "outputs": [
        {
          "output_type": "stream",
          "name": "stdout",
          "text": [
            "[[1 2 3]\n",
            " [4 5 6]\n",
            " [7 8 9]]\n",
            "<class 'numpy.ndarray'>\n",
            "(3, 3)\n"
          ]
        }
      ]
    },
    {
      "cell_type": "code",
      "metadata": {
        "colab": {
          "base_uri": "https://localhost:8080/"
        },
        "id": "F5WCEDQ_ivys",
        "outputId": "91e789b1-b85e-4640-831d-ef16411b2744"
      },
      "source": [
        "print(a2[0, 0], a2[1, 1], a2[2, 2]) # Indexing diagonal entities"
      ],
      "execution_count": 8,
      "outputs": [
        {
          "output_type": "stream",
          "name": "stdout",
          "text": [
            "1 5 9\n"
          ]
        }
      ]
    },
    {
      "cell_type": "code",
      "metadata": {
        "colab": {
          "base_uri": "https://localhost:8080/"
        },
        "id": "Kws-f5ndjChu",
        "outputId": "78691f52-5b29-45de-ef39-a70350a4ec61"
      },
      "source": [
        "a3 = np.array([  [ [1,2,3], [4,5,6], [7,8,9] ],\n",
        "                 [ [1,2,3], [4,5,6], [7,8,9] ],\n",
        "                 [ [1,2,3], [4,5,6], [7,8,9] ]  ])\n",
        "a3"
      ],
      "execution_count": 9,
      "outputs": [
        {
          "output_type": "execute_result",
          "data": {
            "text/plain": [
              "array([[[1, 2, 3],\n",
              "        [4, 5, 6],\n",
              "        [7, 8, 9]],\n",
              "\n",
              "       [[1, 2, 3],\n",
              "        [4, 5, 6],\n",
              "        [7, 8, 9]],\n",
              "\n",
              "       [[1, 2, 3],\n",
              "        [4, 5, 6],\n",
              "        [7, 8, 9]]])"
            ]
          },
          "metadata": {},
          "execution_count": 9
        }
      ]
    },
    {
      "cell_type": "code",
      "metadata": {
        "colab": {
          "base_uri": "https://localhost:8080/"
        },
        "id": "g2BETK5GjXWI",
        "outputId": "698d1a6e-3658-4190-f450-b65cbc767283"
      },
      "source": [
        "print(a3.shape)"
      ],
      "execution_count": 10,
      "outputs": [
        {
          "output_type": "stream",
          "name": "stdout",
          "text": [
            "(3, 3, 3)\n"
          ]
        }
      ]
    },
    {
      "cell_type": "markdown",
      "metadata": {
        "id": "Bu7NnyNojkgJ"
      },
      "source": [
        "#### Intrinsic Numpy array creation functions\n",
        "```np.vals(np.array.shape)```"
      ]
    },
    {
      "cell_type": "markdown",
      "metadata": {
        "id": "PgXj818Xm4_D"
      },
      "source": [
        "##### general ndarray creation functions"
      ]
    },
    {
      "cell_type": "markdown",
      "metadata": {
        "id": "UlzNsBh3kHoX"
      },
      "source": [
        "- ```zeros()```: 모든 요소를 0으로 초기화"
      ]
    },
    {
      "cell_type": "code",
      "metadata": {
        "colab": {
          "base_uri": "https://localhost:8080/"
        },
        "id": "2F7q3DEjkMFt",
        "outputId": "8baeee56-7da1-4e3a-d9de-21038f66d38e"
      },
      "source": [
        "np.zeros(10)"
      ],
      "execution_count": 11,
      "outputs": [
        {
          "output_type": "execute_result",
          "data": {
            "text/plain": [
              "array([0., 0., 0., 0., 0., 0., 0., 0., 0., 0.])"
            ]
          },
          "metadata": {},
          "execution_count": 11
        }
      ]
    },
    {
      "cell_type": "markdown",
      "metadata": {
        "id": "yMICaDymkNbE"
      },
      "source": [
        "- ```ones()```: 모든 요소를 1로 초기화"
      ]
    },
    {
      "cell_type": "code",
      "metadata": {
        "colab": {
          "base_uri": "https://localhost:8080/"
        },
        "id": "6ZvOVZFEkS0m",
        "outputId": "48ab0bd6-06f3-4d8a-e89f-2d69c6d1f15b"
      },
      "source": [
        "np.ones((3, 3))"
      ],
      "execution_count": 12,
      "outputs": [
        {
          "output_type": "execute_result",
          "data": {
            "text/plain": [
              "array([[1., 1., 1.],\n",
              "       [1., 1., 1.],\n",
              "       [1., 1., 1.]])"
            ]
          },
          "metadata": {},
          "execution_count": 12
        }
      ]
    },
    {
      "cell_type": "markdown",
      "metadata": {
        "id": "H_xuvjzNkVTA"
      },
      "source": [
        "- ```full()```: 모든 요소를 지정한 초기값으로 채움"
      ]
    },
    {
      "cell_type": "code",
      "metadata": {
        "colab": {
          "base_uri": "https://localhost:8080/"
        },
        "id": "Z6lPx_RQkpGw",
        "outputId": "b9285abc-a93a-4b1f-831f-5f0444844443"
      },
      "source": [
        "np.full((2, 3), 1.23)"
      ],
      "execution_count": 13,
      "outputs": [
        {
          "output_type": "execute_result",
          "data": {
            "text/plain": [
              "array([[1.23, 1.23, 1.23],\n",
              "       [1.23, 1.23, 1.23]])"
            ]
          },
          "metadata": {},
          "execution_count": 13
        }
      ]
    },
    {
      "cell_type": "markdown",
      "metadata": {
        "id": "qk-zHiI_kslV"
      },
      "source": [
        "- ```eye()```: 단위행렬(I) 생성\n",
        "  - 단위행렬은 정사각행렬이기 때문에 np.array.shape이 아닌 변의 길이만 필요"
      ]
    },
    {
      "cell_type": "code",
      "metadata": {
        "colab": {
          "base_uri": "https://localhost:8080/"
        },
        "id": "BCug-NTzkzgt",
        "outputId": "74c25a2c-a19e-49e4-aa1f-49e65c187698"
      },
      "source": [
        "np.eye(3)"
      ],
      "execution_count": 14,
      "outputs": [
        {
          "output_type": "execute_result",
          "data": {
            "text/plain": [
              "array([[1., 0., 0.],\n",
              "       [0., 1., 0.],\n",
              "       [0., 0., 1.]])"
            ]
          },
          "metadata": {},
          "execution_count": 14
        }
      ]
    },
    {
      "cell_type": "markdown",
      "metadata": {
        "id": "9UN3MSDTlHBn"
      },
      "source": [
        "- ```tri()```: 삼각행렬 생성\n",
        "  - lower triangl. Matrix"
      ]
    },
    {
      "cell_type": "code",
      "metadata": {
        "colab": {
          "base_uri": "https://localhost:8080/"
        },
        "id": "y1ealh9alTBQ",
        "outputId": "09120193-15d5-483e-df5a-1dedf5e01eaf"
      },
      "source": [
        "np.tri(3)"
      ],
      "execution_count": 15,
      "outputs": [
        {
          "output_type": "execute_result",
          "data": {
            "text/plain": [
              "array([[1., 0., 0.],\n",
              "       [1., 1., 0.],\n",
              "       [1., 1., 1.]])"
            ]
          },
          "metadata": {},
          "execution_count": 15
        }
      ]
    },
    {
      "cell_type": "markdown",
      "metadata": {
        "id": "k-zu-pkllUmz"
      },
      "source": [
        "- ```empty()```: 초기화하지 않은 배열 생성\n",
        "  - 초기화가 없어 배열 생성비용이 저렴하고 빠름\n",
        "  - 하지만 기존 메모리 위치에 존재하는 값을 임의로 쓰기 때문에, 어떤 값인지 모른름"
      ]
    },
    {
      "cell_type": "code",
      "metadata": {
        "colab": {
          "base_uri": "https://localhost:8080/"
        },
        "id": "KhvB35SAl7Az",
        "outputId": "6b862c3b-343d-4244-f10c-836e2f392aa9"
      },
      "source": [
        "np.empty(10)"
      ],
      "execution_count": 16,
      "outputs": [
        {
          "output_type": "execute_result",
          "data": {
            "text/plain": [
              "array([0., 0., 0., 0., 0., 0., 0., 0., 0., 0.])"
            ]
          },
          "metadata": {},
          "execution_count": 16
        }
      ]
    },
    {
      "cell_type": "markdown",
      "metadata": {
        "id": "qtiKiyG1l-yA"
      },
      "source": [
        "> ```np.val_like()```: 지정한 배열과 같은 shape를 갖는 행렬 생성\n",
        "  - ```np.zeros_lie()```  \n",
        "  - ```np.ones_lie()```\n",
        "  - ```np.full_lie()```\n",
        "  - ```np.empty_lie()```  "
      ]
    },
    {
      "cell_type": "code",
      "metadata": {
        "colab": {
          "base_uri": "https://localhost:8080/"
        },
        "id": "vLmDfmP2mWVa",
        "outputId": "3c14adc3-a47c-49f7-f5b8-19fa493b9959"
      },
      "source": [
        "print(a1)\n",
        "np.zeros_like(a1)"
      ],
      "execution_count": 17,
      "outputs": [
        {
          "output_type": "stream",
          "name": "stdout",
          "text": [
            "[4 2 6 4 5]\n"
          ]
        },
        {
          "output_type": "execute_result",
          "data": {
            "text/plain": [
              "array([0, 0, 0, 0, 0])"
            ]
          },
          "metadata": {},
          "execution_count": 17
        }
      ]
    },
    {
      "cell_type": "code",
      "metadata": {
        "colab": {
          "base_uri": "https://localhost:8080/"
        },
        "id": "fwHB00eNmYwN",
        "outputId": "f2f2126c-eb10-4ff9-f090-ce8acd99a68c"
      },
      "source": [
        "print(a2)\n",
        "np.ones_like(a2)"
      ],
      "execution_count": 18,
      "outputs": [
        {
          "output_type": "stream",
          "name": "stdout",
          "text": [
            "[[1 2 3]\n",
            " [4 5 6]\n",
            " [7 8 9]]\n"
          ]
        },
        {
          "output_type": "execute_result",
          "data": {
            "text/plain": [
              "array([[1, 1, 1],\n",
              "       [1, 1, 1],\n",
              "       [1, 1, 1]])"
            ]
          },
          "metadata": {},
          "execution_count": 18
        }
      ]
    },
    {
      "cell_type": "code",
      "metadata": {
        "colab": {
          "base_uri": "https://localhost:8080/"
        },
        "id": "eNF0Xkh4mdNL",
        "outputId": "b17d7e3c-8311-4edb-f5cd-0101948ec6bf"
      },
      "source": [
        "print(a3)\n",
        "np.full_like(a3, 10)"
      ],
      "execution_count": 19,
      "outputs": [
        {
          "output_type": "stream",
          "name": "stdout",
          "text": [
            "[[[1 2 3]\n",
            "  [4 5 6]\n",
            "  [7 8 9]]\n",
            "\n",
            " [[1 2 3]\n",
            "  [4 5 6]\n",
            "  [7 8 9]]\n",
            "\n",
            " [[1 2 3]\n",
            "  [4 5 6]\n",
            "  [7 8 9]]]\n"
          ]
        },
        {
          "output_type": "execute_result",
          "data": {
            "text/plain": [
              "array([[[10, 10, 10],\n",
              "        [10, 10, 10],\n",
              "        [10, 10, 10]],\n",
              "\n",
              "       [[10, 10, 10],\n",
              "        [10, 10, 10],\n",
              "        [10, 10, 10]],\n",
              "\n",
              "       [[10, 10, 10],\n",
              "        [10, 10, 10],\n",
              "        [10, 10, 10]]])"
            ]
          },
          "metadata": {},
          "execution_count": 19
        }
      ]
    },
    {
      "cell_type": "markdown",
      "metadata": {
        "id": "c5KRL-4cmgK2"
      },
      "source": [
        "##### 1D array creation functions\n",
        "- 생성한 값으로 배열 생성"
      ]
    },
    {
      "cell_type": "markdown",
      "metadata": {
        "id": "ntdk3052nHkT"
      },
      "source": [
        "- ```arange()```: 정수 범위로 배열 생성 # array range\n",
        "  - python의 ```range()```로 배열을 생성한다고 상상"
      ]
    },
    {
      "cell_type": "code",
      "metadata": {
        "colab": {
          "base_uri": "https://localhost:8080/"
        },
        "id": "ZiXTDNqTnRbM",
        "outputId": "74b3a6ea-506e-4709-b6c2-1e4e0d15d6b3"
      },
      "source": [
        "np.arange(0, 30, 2) # start, end, step"
      ],
      "execution_count": 20,
      "outputs": [
        {
          "output_type": "execute_result",
          "data": {
            "text/plain": [
              "array([ 0,  2,  4,  6,  8, 10, 12, 14, 16, 18, 20, 22, 24, 26, 28])"
            ]
          },
          "metadata": {},
          "execution_count": 20
        }
      ]
    },
    {
      "cell_type": "markdown",
      "metadata": {
        "id": "D5pNvXlXnTZ9"
      },
      "source": [
        "- ```linspace()```: 범위 내에ㅓ 균등 간격의 배열 생성"
      ]
    },
    {
      "cell_type": "code",
      "metadata": {
        "colab": {
          "base_uri": "https://localhost:8080/"
        },
        "id": "HnGjxdnXnbF-",
        "outputId": "9a70c014-9417-43a9-8dbb-166c271912a0"
      },
      "source": [
        "np.linspace(0, 1, 5) # start, end, counts"
      ],
      "execution_count": 21,
      "outputs": [
        {
          "output_type": "execute_result",
          "data": {
            "text/plain": [
              "array([0.  , 0.25, 0.5 , 0.75, 1.  ])"
            ]
          },
          "metadata": {},
          "execution_count": 21
        }
      ]
    },
    {
      "cell_type": "markdown",
      "metadata": {
        "id": "6eJWv8kPnfCI"
      },
      "source": [
        "- ```logspace()```: 범위 내에서 균등간격, 로그스케일"
      ]
    },
    {
      "cell_type": "code",
      "metadata": {
        "colab": {
          "base_uri": "https://localhost:8080/"
        },
        "id": "x0Z9r01SnqvN",
        "outputId": "880a5dc4-31f2-404f-f792-28ad20b6b48e"
      },
      "source": [
        "np.logspace(0.1, 1, 20)"
      ],
      "execution_count": 22,
      "outputs": [
        {
          "output_type": "execute_result",
          "data": {
            "text/plain": [
              "array([ 1.25892541,  1.40400425,  1.565802  ,  1.74624535,  1.94748304,\n",
              "        2.1719114 ,  2.42220294,  2.70133812,  3.0126409 ,  3.35981829,\n",
              "        3.74700446,  4.17881006,  4.66037703,  5.19743987,  5.79639395,\n",
              "        6.46437163,  7.2093272 ,  8.04013161,  8.9666781 , 10.        ])"
            ]
          },
          "metadata": {},
          "execution_count": 22
        }
      ]
    },
    {
      "cell_type": "markdown",
      "metadata": {
        "id": "q9c2_CgDnvhr"
      },
      "source": [
        "## Random sampling (numpy.random)"
      ]
    },
    {
      "cell_type": "markdown",
      "metadata": {
        "id": "ALXqzGqkOl_R"
      },
      "source": [
        "- ```np.random.random()```: 랜덤한 수의 배열 생성\n",
        "  - $R$ (실수) 내에서 랜덤 값 추출"
      ]
    },
    {
      "cell_type": "code",
      "metadata": {
        "colab": {
          "base_uri": "https://localhost:8080/"
        },
        "id": "6pcz7WAdOrIZ",
        "outputId": "dd5b4b7c-d1d9-4577-d270-401c7a831a6e"
      },
      "source": [
        "np.random.random((3, 3))"
      ],
      "execution_count": 23,
      "outputs": [
        {
          "output_type": "execute_result",
          "data": {
            "text/plain": [
              "array([[0.82596766, 0.06787887, 0.58508267],\n",
              "       [0.75280242, 0.94049509, 0.45921507],\n",
              "       [0.50725094, 0.89179999, 0.78838486]])"
            ]
          },
          "metadata": {},
          "execution_count": 23
        }
      ]
    },
    {
      "cell_type": "markdown",
      "metadata": {
        "id": "Rn_OzVpqOt5D"
      },
      "source": [
        "- ```np.random.randint()```: 일정 구간의 랜덤 정수 배열 생성"
      ]
    },
    {
      "cell_type": "code",
      "metadata": {
        "colab": {
          "base_uri": "https://localhost:8080/"
        },
        "id": "LKr5Nrm2PBqw",
        "outputId": "55ef357c-ccb2-4649-f0d8-2cb29d3608a8"
      },
      "source": [
        "np.random.randint(0, 10, (3, 3)) # start, end, shape"
      ],
      "execution_count": 24,
      "outputs": [
        {
          "output_type": "execute_result",
          "data": {
            "text/plain": [
              "array([[3, 8, 0],\n",
              "       [9, 7, 6],\n",
              "       [3, 7, 0]])"
            ]
          },
          "metadata": {},
          "execution_count": 24
        }
      ]
    },
    {
      "cell_type": "markdown",
      "metadata": {
        "id": "UsFyobadPERR"
      },
      "source": [
        "- ```np.random.normal()```: 정규분포를 고려한 랜덤한 수의 배열 생성\n",
        "  - $\\mu=0, \\sigma=1, shape=(3,3)$"
      ]
    },
    {
      "cell_type": "code",
      "metadata": {
        "colab": {
          "base_uri": "https://localhost:8080/"
        },
        "id": "GRQOiYUVPLol",
        "outputId": "896c6550-ce8f-4058-fae3-c6f55e6bb89b"
      },
      "source": [
        "np.random.normal(0, 1, (3,3)) # 평균, 표준편차, 사이즈 (예시는 표준정규분포를 생성)"
      ],
      "execution_count": 25,
      "outputs": [
        {
          "output_type": "execute_result",
          "data": {
            "text/plain": [
              "array([[-0.62492118,  0.77704256,  0.84008198],\n",
              "       [-0.08585034,  0.13683293,  0.40154423],\n",
              "       [ 0.02911249,  0.44448224, -0.67661395]])"
            ]
          },
          "metadata": {},
          "execution_count": 25
        }
      ]
    },
    {
      "cell_type": "markdown",
      "metadata": {
        "id": "Pbum_X9gPoFv"
      },
      "source": [
        "- ```np.random.rand()```: 균등분포(random distribution)을 고려한 랜덤한 수의 배열 생성"
      ]
    },
    {
      "cell_type": "code",
      "metadata": {
        "colab": {
          "base_uri": "https://localhost:8080/"
        },
        "id": "hnpBMkDlPxd2",
        "outputId": "cce1c6f9-aaae-4d5b-d145-62f9233e35f7"
      },
      "source": [
        "np.random.rand(3,3)"
      ],
      "execution_count": 26,
      "outputs": [
        {
          "output_type": "execute_result",
          "data": {
            "text/plain": [
              "array([[0.32770062, 0.86552243, 0.8357895 ],\n",
              "       [0.68089842, 0.42131786, 0.02706159],\n",
              "       [0.88888558, 0.76842138, 0.99576514]])"
            ]
          },
          "metadata": {},
          "execution_count": 26
        }
      ]
    },
    {
      "cell_type": "markdown",
      "metadata": {
        "id": "yqwYYSXWP1yO"
      },
      "source": [
        "- ```np.random.randn()```: 표준정규분포(standard normal distribution) 수의 배열 생성"
      ]
    },
    {
      "cell_type": "code",
      "metadata": {
        "colab": {
          "base_uri": "https://localhost:8080/"
        },
        "id": "Jrz19KWzP-JB",
        "outputId": "169c939e-26da-4b10-f181-93fce713f682"
      },
      "source": [
        "np.random.randn(3,3)"
      ],
      "execution_count": 27,
      "outputs": [
        {
          "output_type": "execute_result",
          "data": {
            "text/plain": [
              "array([[ 1.71016834, -2.21602854, -0.26050229],\n",
              "       [ 0.12114892,  0.24260438,  0.69846237],\n",
              "       [ 1.57241657, -0.90223705, -0.61288211]])"
            ]
          },
          "metadata": {},
          "execution_count": 27
        }
      ]
    },
    {
      "cell_type": "markdown",
      "metadata": {
        "id": "Kzq7YUTZQCg6"
      },
      "source": [
        "## Data types"
      ]
    },
    {
      "cell_type": "code",
      "metadata": {
        "colab": {
          "base_uri": "https://localhost:8080/"
        },
        "id": "ywYrnGAqQRBI",
        "outputId": "b072d59f-1600-4eff-d9ce-74ee668e4f7a"
      },
      "source": [
        "np.zeros(20, dtype='int64')"
      ],
      "execution_count": 28,
      "outputs": [
        {
          "output_type": "execute_result",
          "data": {
            "text/plain": [
              "array([0, 0, 0, 0, 0, 0, 0, 0, 0, 0, 0, 0, 0, 0, 0, 0, 0, 0, 0, 0])"
            ]
          },
          "metadata": {},
          "execution_count": 28
        }
      ]
    },
    {
      "cell_type": "code",
      "metadata": {
        "colab": {
          "base_uri": "https://localhost:8080/"
        },
        "id": "Hq6FdcTMQlAT",
        "outputId": "841483f0-a8e1-4b79-984a-49387a9b6b6c"
      },
      "source": [
        "np.zeros(20, dtype=int)"
      ],
      "execution_count": 29,
      "outputs": [
        {
          "output_type": "execute_result",
          "data": {
            "text/plain": [
              "array([0, 0, 0, 0, 0, 0, 0, 0, 0, 0, 0, 0, 0, 0, 0, 0, 0, 0, 0, 0])"
            ]
          },
          "metadata": {},
          "execution_count": 29
        }
      ]
    },
    {
      "cell_type": "code",
      "metadata": {
        "colab": {
          "base_uri": "https://localhost:8080/"
        },
        "id": "2O2LIhzdQhqA",
        "outputId": "d3f715c5-21f6-43a8-abc2-7472cb26b767"
      },
      "source": [
        "np.ones((3,3), dtype=bool)"
      ],
      "execution_count": 30,
      "outputs": [
        {
          "output_type": "execute_result",
          "data": {
            "text/plain": [
              "array([[ True,  True,  True],\n",
              "       [ True,  True,  True],\n",
              "       [ True,  True,  True]])"
            ]
          },
          "metadata": {},
          "execution_count": 30
        }
      ]
    },
    {
      "cell_type": "code",
      "metadata": {
        "colab": {
          "base_uri": "https://localhost:8080/"
        },
        "id": "xc_Ka6mfQpUR",
        "outputId": "565bab63-649f-475e-950c-f9b708e6caa4"
      },
      "source": [
        "np.full((3,3), 1.0, dtype='float64')"
      ],
      "execution_count": 31,
      "outputs": [
        {
          "output_type": "execute_result",
          "data": {
            "text/plain": [
              "array([[1., 1., 1.],\n",
              "       [1., 1., 1.],\n",
              "       [1., 1., 1.]])"
            ]
          },
          "metadata": {},
          "execution_count": 31
        }
      ]
    },
    {
      "cell_type": "markdown",
      "metadata": {
        "id": "6asDzHqXQuTc"
      },
      "source": [
        "## Datetime Units"
      ]
    },
    {
      "cell_type": "code",
      "metadata": {
        "colab": {
          "base_uri": "https://localhost:8080/"
        },
        "id": "k4wklcTMQ5G6",
        "outputId": "a66d075a-f359-411f-80a6-94c43f061b3a"
      },
      "source": [
        "date = np.array('2020-01-01', dtype=np.datetime64) # str(date_format), dtype=np.datetime64: 날짜로 인식\n",
        "date"
      ],
      "execution_count": 32,
      "outputs": [
        {
          "output_type": "execute_result",
          "data": {
            "text/plain": [
              "array('2020-01-01', dtype='datetime64[D]')"
            ]
          },
          "metadata": {},
          "execution_count": 32
        }
      ]
    },
    {
      "cell_type": "code",
      "metadata": {
        "colab": {
          "base_uri": "https://localhost:8080/"
        },
        "id": "1_i5ekbHRTVa",
        "outputId": "d6660925-82bf-4988-acde-5893342cdda4"
      },
      "source": [
        "date + np.arange(12) # np.arange => datetime64[D], datetimes with a unit of 'D'"
      ],
      "execution_count": 33,
      "outputs": [
        {
          "output_type": "execute_result",
          "data": {
            "text/plain": [
              "array(['2020-01-01', '2020-01-02', '2020-01-03', '2020-01-04',\n",
              "       '2020-01-05', '2020-01-06', '2020-01-07', '2020-01-08',\n",
              "       '2020-01-09', '2020-01-10', '2020-01-11', '2020-01-12'],\n",
              "      dtype='datetime64[D]')"
            ]
          },
          "metadata": {},
          "execution_count": 33
        }
      ]
    },
    {
      "cell_type": "code",
      "metadata": {
        "colab": {
          "base_uri": "https://localhost:8080/"
        },
        "id": "Br5S7gLQRgR4",
        "outputId": "fe38dab9-1c5f-4da0-8221-4ea408149afd"
      },
      "source": [
        "datetime = np.datetime64('2020-06-01 12:00')\n",
        "datetime"
      ],
      "execution_count": 34,
      "outputs": [
        {
          "output_type": "execute_result",
          "data": {
            "text/plain": [
              "numpy.datetime64('2020-06-01T12:00')"
            ]
          },
          "metadata": {},
          "execution_count": 34
        }
      ]
    },
    {
      "cell_type": "code",
      "metadata": {
        "colab": {
          "base_uri": "https://localhost:8080/"
        },
        "id": "QsD3u6JQRwnQ",
        "outputId": "6a5d9ae2-438b-4b73-c5c6-c67aab09a695"
      },
      "source": [
        "datetime = np.datetime64('2020-06-01 12:00:12.34', 'ns') # 'ns': date units code\n",
        "datetime"
      ],
      "execution_count": 35,
      "outputs": [
        {
          "output_type": "execute_result",
          "data": {
            "text/plain": [
              "numpy.datetime64('2020-06-01T12:00:12.340000000')"
            ]
          },
          "metadata": {},
          "execution_count": 35
        }
      ]
    },
    {
      "cell_type": "markdown",
      "metadata": {
        "id": "uPvP3cvxR9yd"
      },
      "source": [
        "## Indexing"
      ]
    },
    {
      "cell_type": "code",
      "metadata": {
        "id": "buQJQql4SPDp"
      },
      "source": [
        "def array_info(array):\n",
        "    print(array) # 실제값\n",
        "    print(f\"ndim: {array.ndim}\") # 차원\n",
        "    print(f\"shape: {array.shape}\") # 차원별 원소의 개수\n",
        "    print(f\"dtype: {array.dtype}\") # 데이터형\n",
        "    print(f\"size: {array.size}\") # 총 원소의 개수, 실제값의 개수\n",
        "    print(f\"itemsize: {array.itemsize}\") # 각 원소가 차지하는 크기 (예시: 8byte)\n",
        "    print(f\"nbytes: {array.nbytes}\") # size * itemsize [byte]\n",
        "    print(f\"strides: {array.strides}\") # array 내 다음 차원으로 넘어가기 위해 필요한 크기 [byte]"
      ],
      "execution_count": 36,
      "outputs": []
    },
    {
      "cell_type": "code",
      "metadata": {
        "colab": {
          "base_uri": "https://localhost:8080/"
        },
        "id": "pUNvnuGnSrID",
        "outputId": "e1da7078-470f-436a-ea01-806448cea89b"
      },
      "source": [
        "array_info(a1)"
      ],
      "execution_count": 37,
      "outputs": [
        {
          "output_type": "stream",
          "name": "stdout",
          "text": [
            "[4 2 6 4 5]\n",
            "ndim: 1\n",
            "shape: (5,)\n",
            "dtype: int64\n",
            "size: 5\n",
            "itemsize: 8\n",
            "nbytes: 40\n",
            "strides: (8,)\n"
          ]
        }
      ]
    },
    {
      "cell_type": "code",
      "metadata": {
        "colab": {
          "base_uri": "https://localhost:8080/"
        },
        "id": "SzzJS7aeSsUL",
        "outputId": "8b44306c-ad5f-43f4-8f67-c0678310862a"
      },
      "source": [
        "array_info(a2)"
      ],
      "execution_count": 38,
      "outputs": [
        {
          "output_type": "stream",
          "name": "stdout",
          "text": [
            "[[1 2 3]\n",
            " [4 5 6]\n",
            " [7 8 9]]\n",
            "ndim: 2\n",
            "shape: (3, 3)\n",
            "dtype: int64\n",
            "size: 9\n",
            "itemsize: 8\n",
            "nbytes: 72\n",
            "strides: (24, 8)\n"
          ]
        }
      ]
    },
    {
      "cell_type": "code",
      "metadata": {
        "colab": {
          "base_uri": "https://localhost:8080/"
        },
        "id": "lyYZWPpuTTyh",
        "outputId": "4890e50a-00b1-4a7d-b307-94aba1cc6707"
      },
      "source": [
        "array_info(a3)"
      ],
      "execution_count": 39,
      "outputs": [
        {
          "output_type": "stream",
          "name": "stdout",
          "text": [
            "[[[1 2 3]\n",
            "  [4 5 6]\n",
            "  [7 8 9]]\n",
            "\n",
            " [[1 2 3]\n",
            "  [4 5 6]\n",
            "  [7 8 9]]\n",
            "\n",
            " [[1 2 3]\n",
            "  [4 5 6]\n",
            "  [7 8 9]]]\n",
            "ndim: 3\n",
            "shape: (3, 3, 3)\n",
            "dtype: int64\n",
            "size: 27\n",
            "itemsize: 8\n",
            "nbytes: 216\n",
            "strides: (72, 24, 8)\n"
          ]
        }
      ]
    },
    {
      "cell_type": "markdown",
      "metadata": {
        "id": "hiRjzyi7Ti7t"
      },
      "source": [
        "### Indexing"
      ]
    },
    {
      "cell_type": "code",
      "metadata": {
        "colab": {
          "base_uri": "https://localhost:8080/"
        },
        "id": "EXy-3aDYT6b7",
        "outputId": "04930e84-87cb-4d52-be71-e2fca84f6773"
      },
      "source": [
        "a1 # 1D-array"
      ],
      "execution_count": 40,
      "outputs": [
        {
          "output_type": "execute_result",
          "data": {
            "text/plain": [
              "array([4, 2, 6, 4, 5])"
            ]
          },
          "metadata": {},
          "execution_count": 40
        }
      ]
    },
    {
      "cell_type": "code",
      "metadata": {
        "colab": {
          "base_uri": "https://localhost:8080/"
        },
        "id": "OlRn4qV6T9aW",
        "outputId": "f90cc4b0-7aa5-4bc3-af64-b91c6f2ee687"
      },
      "source": [
        "print(a1[0])\n",
        "print(a1[-1])"
      ],
      "execution_count": 41,
      "outputs": [
        {
          "output_type": "stream",
          "name": "stdout",
          "text": [
            "4\n",
            "5\n"
          ]
        }
      ]
    },
    {
      "cell_type": "code",
      "metadata": {
        "colab": {
          "base_uri": "https://localhost:8080/"
        },
        "id": "8hV6b52xUGHI",
        "outputId": "d682c342-0088-4744-f5a3-01f3d428da8c"
      },
      "source": [
        "a2 # 2D-array"
      ],
      "execution_count": 42,
      "outputs": [
        {
          "output_type": "execute_result",
          "data": {
            "text/plain": [
              "array([[1, 2, 3],\n",
              "       [4, 5, 6],\n",
              "       [7, 8, 9]])"
            ]
          },
          "metadata": {},
          "execution_count": 42
        }
      ]
    },
    {
      "cell_type": "code",
      "metadata": {
        "colab": {
          "base_uri": "https://localhost:8080/"
        },
        "id": "8m44xiy8T_7r",
        "outputId": "6ad7094c-53e0-452c-aa9d-2cdf75190e69"
      },
      "source": [
        "print(a2[0, 0])\n",
        "print(a2[1, -1])"
      ],
      "execution_count": 43,
      "outputs": [
        {
          "output_type": "stream",
          "name": "stdout",
          "text": [
            "1\n",
            "6\n"
          ]
        }
      ]
    },
    {
      "cell_type": "code",
      "metadata": {
        "colab": {
          "base_uri": "https://localhost:8080/"
        },
        "id": "w4D09hS2UKeh",
        "outputId": "c78d786b-675e-4255-daa6-288cfc87e1bb"
      },
      "source": [
        "a3 # 3D-array"
      ],
      "execution_count": 44,
      "outputs": [
        {
          "output_type": "execute_result",
          "data": {
            "text/plain": [
              "array([[[1, 2, 3],\n",
              "        [4, 5, 6],\n",
              "        [7, 8, 9]],\n",
              "\n",
              "       [[1, 2, 3],\n",
              "        [4, 5, 6],\n",
              "        [7, 8, 9]],\n",
              "\n",
              "       [[1, 2, 3],\n",
              "        [4, 5, 6],\n",
              "        [7, 8, 9]]])"
            ]
          },
          "metadata": {},
          "execution_count": 44
        }
      ]
    },
    {
      "cell_type": "code",
      "metadata": {
        "colab": {
          "base_uri": "https://localhost:8080/"
        },
        "id": "NlTSo-vUUNiQ",
        "outputId": "d59b1a5f-ac67-4f37-9993-11d7ee279954"
      },
      "source": [
        "print(a3[0,0,0])\n",
        "print(a3[2,-1,-1])"
      ],
      "execution_count": 45,
      "outputs": [
        {
          "output_type": "stream",
          "name": "stdout",
          "text": [
            "1\n",
            "9\n"
          ]
        }
      ]
    },
    {
      "cell_type": "markdown",
      "metadata": {
        "id": "U_-pP8zlUXYK"
      },
      "source": [
        "## Slicing"
      ]
    },
    {
      "cell_type": "code",
      "metadata": {
        "colab": {
          "base_uri": "https://localhost:8080/"
        },
        "id": "9q1ASD5FUhYp",
        "outputId": "c4a6a8e3-9f4e-4458-be5b-f8f9b2baa263"
      },
      "source": [
        "# 1D-array\n",
        "print(a1[0:2])\n",
        "print(a1[:])\n",
        "print(a1[::2])\n",
        "print(a1[::-1])"
      ],
      "execution_count": 46,
      "outputs": [
        {
          "output_type": "stream",
          "name": "stdout",
          "text": [
            "[4 2]\n",
            "[4 2 6 4 5]\n",
            "[4 6 5]\n",
            "[5 4 6 2 4]\n"
          ]
        }
      ]
    },
    {
      "cell_type": "code",
      "metadata": {
        "colab": {
          "base_uri": "https://localhost:8080/"
        },
        "id": "1UsobUWUVBrE",
        "outputId": "ea4d2452-1ae6-447b-c22c-90b63e75a25d"
      },
      "source": [
        "# 2D-array\n",
        "print(a2[1])\n",
        "print(a2[1, :]) # == a2[1]\n",
        "print(a2[:2, :2])\n",
        "print(a2[1:, ::-1])"
      ],
      "execution_count": 47,
      "outputs": [
        {
          "output_type": "stream",
          "name": "stdout",
          "text": [
            "[4 5 6]\n",
            "[4 5 6]\n",
            "[[1 2]\n",
            " [4 5]]\n",
            "[[6 5 4]\n",
            " [9 8 7]]\n"
          ]
        }
      ]
    },
    {
      "cell_type": "code",
      "metadata": {
        "id": "A7SlkahEVQha"
      },
      "source": [
        "# 데이터형 list는 a2[1][:]로 접근하는 방식과 다르게 np.array는 a2[1, :]로 접근한다."
      ],
      "execution_count": 48,
      "outputs": []
    },
    {
      "cell_type": "markdown",
      "metadata": {
        "id": "mCedGsu-VnaX"
      },
      "source": [
        "##### Boolean or \"mask\" Indexing"
      ]
    },
    {
      "cell_type": "code",
      "metadata": {
        "colab": {
          "base_uri": "https://localhost:8080/"
        },
        "id": "k2WDFkrfVqyY",
        "outputId": "6b7ba2d7-8fe9-4fc8-af9f-fb87831dab6f"
      },
      "source": [
        "print(a1)\n",
        "bi = [False, True, True, False, True] # boolean indexing\n",
        "print(a1[bi])\n",
        "bi = [True, True, False, False, False] # boolean indexing\n",
        "print(a1[bi])"
      ],
      "execution_count": 49,
      "outputs": [
        {
          "output_type": "stream",
          "name": "stdout",
          "text": [
            "[4 2 6 4 5]\n",
            "[2 6 5]\n",
            "[4 2]\n"
          ]
        }
      ]
    },
    {
      "cell_type": "code",
      "metadata": {
        "colab": {
          "base_uri": "https://localhost:8080/"
        },
        "id": "lWhIU4z9V6AQ",
        "outputId": "ed9c6b96-3510-4917-fa71-1ac639b40b81"
      },
      "source": [
        "print(a2)\n",
        "bi = np.random.randint(0, 2, (3,3), dtype=bool)\n",
        "print(bi)\n",
        "print(a2[bi])"
      ],
      "execution_count": 50,
      "outputs": [
        {
          "output_type": "stream",
          "name": "stdout",
          "text": [
            "[[1 2 3]\n",
            " [4 5 6]\n",
            " [7 8 9]]\n",
            "[[False False False]\n",
            " [False  True False]\n",
            " [ True  True False]]\n",
            "[5 7 8]\n"
          ]
        }
      ]
    },
    {
      "cell_type": "markdown",
      "metadata": {
        "id": "tyR1irHnWDj0"
      },
      "source": [
        "##### Fancy Indexing"
      ]
    },
    {
      "cell_type": "code",
      "metadata": {
        "colab": {
          "base_uri": "https://localhost:8080/"
        },
        "id": "PlS8fSP8WI-V",
        "outputId": "9763f301-0894-4f86-f354-7ae985be536d"
      },
      "source": [
        "print(a1)\n",
        "print([a1[0], a1[2]])"
      ],
      "execution_count": 51,
      "outputs": [
        {
          "output_type": "stream",
          "name": "stdout",
          "text": [
            "[4 2 6 4 5]\n",
            "[4, 6]\n"
          ]
        }
      ]
    },
    {
      "cell_type": "code",
      "metadata": {
        "colab": {
          "base_uri": "https://localhost:8080/"
        },
        "id": "3Qg4YmSTWMuL",
        "outputId": "60e8c24d-0289-46a4-add4-8eaffd5a613b"
      },
      "source": [
        "idx = [0, 2]\n",
        "\n",
        "a1[idx]"
      ],
      "execution_count": 52,
      "outputs": [
        {
          "output_type": "execute_result",
          "data": {
            "text/plain": [
              "array([4, 6])"
            ]
          },
          "metadata": {},
          "execution_count": 52
        }
      ]
    },
    {
      "cell_type": "code",
      "metadata": {
        "colab": {
          "base_uri": "https://localhost:8080/"
        },
        "id": "mC2PxV2XWQ-d",
        "outputId": "817f723b-cdcf-4bd6-855f-45838b666b09"
      },
      "source": [
        "idx = np.array([[0,1],\n",
        "                [2,0]])\n",
        "a1[idx]"
      ],
      "execution_count": 53,
      "outputs": [
        {
          "output_type": "execute_result",
          "data": {
            "text/plain": [
              "array([[4, 2],\n",
              "       [6, 4]])"
            ]
          },
          "metadata": {},
          "execution_count": 53
        }
      ]
    },
    {
      "cell_type": "code",
      "metadata": {
        "id": "gRa6L7NJWf0I"
      },
      "source": [
        "# 원본이 1차원이더라도, 인덱스에 따라 결과가 2차원이 될 수 있다."
      ],
      "execution_count": 54,
      "outputs": []
    },
    {
      "cell_type": "code",
      "metadata": {
        "colab": {
          "base_uri": "https://localhost:8080/"
        },
        "id": "WBFAeLwxWmcL",
        "outputId": "e59bd097-9ece-418d-a428-98762a7adc6e"
      },
      "source": [
        "print(a2)\n",
        "row = np.array([0, 2])\n",
        "col = np.array([1, 2])\n",
        "\n",
        "a2[row, col] # a[i,j] for (i,j) in [(0,1), (2,2)]"
      ],
      "execution_count": 55,
      "outputs": [
        {
          "output_type": "stream",
          "name": "stdout",
          "text": [
            "[[1 2 3]\n",
            " [4 5 6]\n",
            " [7 8 9]]\n"
          ]
        },
        {
          "output_type": "execute_result",
          "data": {
            "text/plain": [
              "array([2, 9])"
            ]
          },
          "metadata": {},
          "execution_count": 55
        }
      ]
    },
    {
      "cell_type": "code",
      "metadata": {
        "colab": {
          "base_uri": "https://localhost:8080/"
        },
        "id": "raiXvG04WyFv",
        "outputId": "230f94f7-a77d-4076-9af0-cad9fc0acc49"
      },
      "source": [
        "# Fancy Indexing + Slicing\n",
        "print(a2[row, :]) # 2D\n",
        "print(a2[:, col]) # 2D\n",
        "\n",
        "# Fancy Indexing\n",
        "print(a2[row, 1]) # 1D\n",
        "print(a2[2, col]) # 1D"
      ],
      "execution_count": 56,
      "outputs": [
        {
          "output_type": "stream",
          "name": "stdout",
          "text": [
            "[[1 2 3]\n",
            " [7 8 9]]\n",
            "[[2 3]\n",
            " [5 6]\n",
            " [8 9]]\n",
            "[2 8]\n",
            "[8 9]\n"
          ]
        }
      ]
    },
    {
      "cell_type": "markdown",
      "metadata": {
        "id": "baOg7D7cXYyd"
      },
      "source": [
        "## Array manipulation"
      ]
    },
    {
      "cell_type": "markdown",
      "metadata": {
        "id": "rjzH7mDFYqOH"
      },
      "source": [
        "#### Insert\n",
        "- Returns: a copy of arr w/ values inserted\n",
        "- Parameters:\n",
        "  - axis\n",
        "  - obj, values"
      ]
    },
    {
      "cell_type": "code",
      "metadata": {
        "colab": {
          "base_uri": "https://localhost:8080/"
        },
        "id": "aLDxNDXFZHOk",
        "outputId": "666f1e16-8fbc-47fb-cbce-27a3e999872c"
      },
      "source": [
        "print(a1)\n",
        "b1 = np.insert(a1, 0, 10) # obj: postion, values: inserted val\n",
        "print(a1)\n",
        "print(b1) # not referring, but assigning"
      ],
      "execution_count": 57,
      "outputs": [
        {
          "output_type": "stream",
          "name": "stdout",
          "text": [
            "[4 2 6 4 5]\n",
            "[4 2 6 4 5]\n",
            "[10  4  2  6  4  5]\n"
          ]
        }
      ]
    },
    {
      "cell_type": "code",
      "metadata": {
        "colab": {
          "base_uri": "https://localhost:8080/"
        },
        "id": "YzcJ6ScRZQ51",
        "outputId": "16571fa6-fe89-4eb3-dc28-1a8d828e4b51"
      },
      "source": [
        "c1 = np.insert(a1, 2, 10)\n",
        "print(a1)\n",
        "print(c1)"
      ],
      "execution_count": 58,
      "outputs": [
        {
          "output_type": "stream",
          "name": "stdout",
          "text": [
            "[4 2 6 4 5]\n",
            "[ 4  2 10  6  4  5]\n"
          ]
        }
      ]
    },
    {
      "cell_type": "code",
      "metadata": {
        "colab": {
          "base_uri": "https://localhost:8080/"
        },
        "id": "cZNIz24hZewm",
        "outputId": "a458bbb0-6a7e-4e5e-8901-016de2f6ca58"
      },
      "source": [
        "print(a2)\n",
        "b2 = np.insert(a2, 1, 10, axis=0) # add row\n",
        "print(b2)\n",
        "c2 = np.insert(a2, 1, 10, axis=1) # add col\n",
        "print(c2)"
      ],
      "execution_count": 59,
      "outputs": [
        {
          "output_type": "stream",
          "name": "stdout",
          "text": [
            "[[1 2 3]\n",
            " [4 5 6]\n",
            " [7 8 9]]\n",
            "[[ 1  2  3]\n",
            " [10 10 10]\n",
            " [ 4  5  6]\n",
            " [ 7  8  9]]\n",
            "[[ 1 10  2  3]\n",
            " [ 4 10  5  6]\n",
            " [ 7 10  8  9]]\n"
          ]
        }
      ]
    },
    {
      "cell_type": "code",
      "metadata": {
        "colab": {
          "base_uri": "https://localhost:8080/"
        },
        "id": "EdhqPuXUZpZt",
        "outputId": "bbaa7913-d2b9-44dd-929d-f89b6ad60145"
      },
      "source": [
        "c2[:, 1] # col2 vector"
      ],
      "execution_count": 60,
      "outputs": [
        {
          "output_type": "execute_result",
          "data": {
            "text/plain": [
              "array([10, 10, 10])"
            ]
          },
          "metadata": {},
          "execution_count": 60
        }
      ]
    },
    {
      "cell_type": "markdown",
      "metadata": {
        "id": "OhaeYw7WZzQm"
      },
      "source": [
        "#### assign\n",
        "- Array Indexing"
      ]
    },
    {
      "cell_type": "code",
      "metadata": {
        "colab": {
          "base_uri": "https://localhost:8080/"
        },
        "id": "4re68KplaZh_",
        "outputId": "932cfe52-ddef-49d7-f3be-b66a1f49460d"
      },
      "source": [
        "print(a1)\n",
        "#\n",
        "a1[0] = 1\n",
        "a1[1] = 2\n",
        "a1[2] = 3\n",
        "print(a1)\n",
        "#\n",
        "a1[:1] = 9 # == (a1[0] = 9)\n",
        "print(a1)\n",
        "#\n",
        "i = np.array([1, 3, 4])\n",
        "a1[i] = 0\n",
        "print(a1)\n",
        "#\n",
        "a1[i] += 4\n",
        "print(a1)"
      ],
      "execution_count": 61,
      "outputs": [
        {
          "output_type": "stream",
          "name": "stdout",
          "text": [
            "[4 2 6 4 5]\n",
            "[1 2 3 4 5]\n",
            "[9 2 3 4 5]\n",
            "[9 0 3 0 0]\n",
            "[9 4 3 4 4]\n"
          ]
        }
      ]
    },
    {
      "cell_type": "code",
      "metadata": {
        "colab": {
          "base_uri": "https://localhost:8080/"
        },
        "id": "7v5FZei5amGH",
        "outputId": "56d7dceb-8582-4199-a6f0-eb25451d40a4"
      },
      "source": [
        "print(a2)\n",
        "#\n",
        "a2[0, 0] = 1\n",
        "a2[1, 1] = 2\n",
        "a2[2, 2] = 3\n",
        "a2[0] = 1\n",
        "print(a2)\n",
        "#\n",
        "a2[1:, 2] = 9\n",
        "print(a2)\n",
        "#\n",
        "row = np.array([0,1])\n",
        "col = np.array([1,2])\n",
        "a2[row, col] = 0 # Fancy Indexing\n",
        "print(a2)"
      ],
      "execution_count": 62,
      "outputs": [
        {
          "output_type": "stream",
          "name": "stdout",
          "text": [
            "[[1 2 3]\n",
            " [4 5 6]\n",
            " [7 8 9]]\n",
            "[[1 1 1]\n",
            " [4 2 6]\n",
            " [7 8 3]]\n",
            "[[1 1 1]\n",
            " [4 2 9]\n",
            " [7 8 9]]\n",
            "[[1 0 1]\n",
            " [4 2 0]\n",
            " [7 8 9]]\n"
          ]
        }
      ]
    },
    {
      "cell_type": "markdown",
      "metadata": {
        "id": "1aXWRaBJbZ5j"
      },
      "source": [
        "### delete\n",
        "- Returns: new arr\n",
        "- axis"
      ]
    },
    {
      "cell_type": "code",
      "metadata": {
        "colab": {
          "base_uri": "https://localhost:8080/"
        },
        "id": "2_qNsq2Nbhgg",
        "outputId": "b9201887-ea80-4f9c-a9db-abce1b8c0aef"
      },
      "source": [
        "print(a1)\n",
        "#\n",
        "b1 = np.delete(a1, 1)\n",
        "print(b1)\n",
        "#\n",
        "print(a1)"
      ],
      "execution_count": 63,
      "outputs": [
        {
          "output_type": "stream",
          "name": "stdout",
          "text": [
            "[9 4 3 4 4]\n",
            "[9 3 4 4]\n",
            "[9 4 3 4 4]\n"
          ]
        }
      ]
    },
    {
      "cell_type": "code",
      "metadata": {
        "colab": {
          "base_uri": "https://localhost:8080/"
        },
        "id": "r7Lm5O_rbpa-",
        "outputId": "65156a18-1ea0-42fc-c16b-8cdf33d8141e"
      },
      "source": [
        "print(a2)\n",
        "#\n",
        "b2 = np.delete(a2, 1, axis=0) # axis\n",
        "print(b2)\n",
        "#\n",
        "print(a2)\n",
        "#\n",
        "c2 = np.delete(a2, 1, axis=1) # col delete\n",
        "print(c2)"
      ],
      "execution_count": 64,
      "outputs": [
        {
          "output_type": "stream",
          "name": "stdout",
          "text": [
            "[[1 0 1]\n",
            " [4 2 0]\n",
            " [7 8 9]]\n",
            "[[1 0 1]\n",
            " [7 8 9]]\n",
            "[[1 0 1]\n",
            " [4 2 0]\n",
            " [7 8 9]]\n",
            "[[1 1]\n",
            " [4 0]\n",
            " [7 9]]\n"
          ]
        }
      ]
    },
    {
      "cell_type": "markdown",
      "metadata": {
        "id": "tipnzM9Rb2h5"
      },
      "source": [
        "### Arr copy\n",
        "- 리스트 자료형과 다르게 배열의 슬라이싱은 복사본이 아님"
      ]
    },
    {
      "cell_type": "code",
      "metadata": {
        "colab": {
          "base_uri": "https://localhost:8080/"
        },
        "id": "Ccy62338b5Ke",
        "outputId": "6208b4d2-c43f-4c65-d75d-2bb9b3a7b326"
      },
      "source": [
        "print(a2)\n",
        "print(a2[:2, :2])\n",
        "#\n",
        "a2_sub = a2[:2, :2]\n",
        "print(a2_sub)\n",
        "#\n",
        "a2_sub[:, 1] = 0\n",
        "print(a2_sub)\n",
        "#\n",
        "print(a2) # (Note) referring original, not new arr"
      ],
      "execution_count": 65,
      "outputs": [
        {
          "output_type": "stream",
          "name": "stdout",
          "text": [
            "[[1 0 1]\n",
            " [4 2 0]\n",
            " [7 8 9]]\n",
            "[[1 0]\n",
            " [4 2]]\n",
            "[[1 0]\n",
            " [4 2]]\n",
            "[[1 0]\n",
            " [4 0]]\n",
            "[[1 0 1]\n",
            " [4 0 0]\n",
            " [7 8 9]]\n"
          ]
        }
      ]
    },
    {
      "cell_type": "markdown",
      "metadata": {
        "id": "yd1oGU1wcZQM"
      },
      "source": [
        "- ```copy()```: 명시적 복사"
      ]
    },
    {
      "cell_type": "code",
      "metadata": {
        "colab": {
          "base_uri": "https://localhost:8080/"
        },
        "id": "ykgrVEfxceHR",
        "outputId": "3427b42e-e3c3-4990-8ff1-3f81a3794bea"
      },
      "source": [
        "print(a2)\n",
        "#\n",
        "a2_sub_copy = a2[:2, :2].copy()\n",
        "print(a2_sub_copy)\n",
        "#\n",
        "a2_sub_copy[:, :] = 1\n",
        "print(a2_sub_copy)\n",
        "#\n",
        "print(a2)"
      ],
      "execution_count": 66,
      "outputs": [
        {
          "output_type": "stream",
          "name": "stdout",
          "text": [
            "[[1 0 1]\n",
            " [4 0 0]\n",
            " [7 8 9]]\n",
            "[[1 0]\n",
            " [4 0]]\n",
            "[[1 1]\n",
            " [1 1]]\n",
            "[[1 0 1]\n",
            " [4 0 0]\n",
            " [7 8 9]]\n"
          ]
        }
      ]
    }
  ]
}