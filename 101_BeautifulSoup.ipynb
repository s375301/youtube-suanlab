{
  "nbformat": 4,
  "nbformat_minor": 0,
  "metadata": {
    "colab": {
      "name": "101-BeautifulSoup.ipynb",
      "provenance": [],
      "authorship_tag": "ABX9TyPebiqeh0afl4jl2Ar2f599"
    },
    "kernelspec": {
      "name": "python3",
      "display_name": "Python 3"
    },
    "language_info": {
      "name": "python"
    }
  },
  "cells": [
    {
      "cell_type": "markdown",
      "metadata": {
        "id": "CKR50g0YtRIW"
      },
      "source": [
        "# BeautifulSoup"
      ]
    },
    {
      "cell_type": "markdown",
      "metadata": {
        "id": "kJC-1Ncrtk3V"
      },
      "source": [
        "## BeautifulSoup 특징\n",
        "- HTML과 XML 파일에서 데이터를 뽑아내기 위한 파이썬 라이브러리\n",
        "- HTML과 XML의 트리 구조를 탐색, 검색, 변경 가능\n",
        "- 다양한 파서(parser)를 선택하여 이용가능"
      ]
    },
    {
      "cell_type": "markdown",
      "metadata": {
        "id": "JrWKwP7Htyhn"
      },
      "source": [
        "### parser 종류\n",
        "- html parser\n",
        "  - ```BeautifulSoup(markup, 'html.parser')```\n",
        "- lxml HTML parser\n",
        "  - ```BeautifulSoup(markup, 'lxml')```\n",
        "- lxml XML parser\n",
        "  - ```BeautifulSoup(markup, 'lxml-xml')```\n",
        "  - ```BeautifulSoup(markup, 'xml')```\n",
        "- html5lib\n",
        "  - ```BeautifulSoup(markup, 'html5lib)```"
      ]
    },
    {
      "cell_type": "markdown",
      "metadata": {
        "id": "7eURkToQuTBz"
      },
      "source": [
        "## HTML 파싱(Parsing)"
      ]
    },
    {
      "cell_type": "markdown",
      "metadata": {
        "id": "fstjCZWUu0o7"
      },
      "source": [
        "### 웹페이지 예제 생성"
      ]
    },
    {
      "cell_type": "code",
      "metadata": {
        "colab": {
          "base_uri": "https://localhost:8080/"
        },
        "id": "fprrevtju22t",
        "outputId": "e7724ae5-b462-4b7f-85f0-c96ecbfaa1a7"
      },
      "source": [
        "%%writefile example.html\n",
        "<! DOCTYPE html>\n",
        "<html>\n",
        "  <head>\n",
        "    <title>Page Title</title>\n",
        "  </head>\n",
        "  <body>\n",
        "    <h1>Heading</h1>\n",
        "    <p>Paragraph</p>\n",
        "    <div>\n",
        "      <a href=\"www.google.com\">google</a>\n",
        "    </div>\n",
        "    <div class=\"class1\">\n",
        "      <p>a</p>\n",
        "      <a href=\"www.naver.com\">naver</a>\n",
        "      <p>b</p>\n",
        "      <p>c</p>\n",
        "    </div>\n",
        "    <div id=\"id1\">\n",
        "      Example page\n",
        "      <p>g</p>\n",
        "    </div>\n",
        "  </body>\n",
        "</html>"
      ],
      "execution_count": 4,
      "outputs": [
        {
          "output_type": "stream",
          "name": "stdout",
          "text": [
            "Overwriting example.html\n"
          ]
        }
      ]
    },
    {
      "cell_type": "code",
      "metadata": {
        "colab": {
          "base_uri": "https://localhost:8080/"
        },
        "id": "7jjhdp7FvfY-",
        "outputId": "5b8ede16-a662-4c4e-d26a-eb9fe7720a55"
      },
      "source": [
        "from bs4 import BeautifulSoup\n",
        "import urllib.request\n",
        "\n",
        "with open(\"example.html\") as fp:\n",
        "    soup = BeautifulSoup(fp, 'html.parser')\n",
        "\n",
        "soup"
      ],
      "execution_count": 5,
      "outputs": [
        {
          "output_type": "execute_result",
          "data": {
            "text/plain": [
              "<!-- DOCTYPE html-->\n",
              "<html>\n",
              "<head>\n",
              "<title>Page Title</title>\n",
              "</head>\n",
              "<body>\n",
              "<h1>Heading</h1>\n",
              "<p>Paragraph</p>\n",
              "<div>\n",
              "<a href=\"www.google.com\">google</a>\n",
              "</div>\n",
              "<div class=\"class1\">\n",
              "<p>a</p>\n",
              "<a href=\"www.naver.com\">naver</a>\n",
              "<p>b</p>\n",
              "<p>c</p>\n",
              "</div>\n",
              "<div id=\"id1\">\n",
              "      Example page\n",
              "      <p>g</p>\n",
              "</div>\n",
              "</body>\n",
              "</html>"
            ]
          },
          "metadata": {},
          "execution_count": 5
        }
      ]
    },
    {
      "cell_type": "code",
      "metadata": {
        "colab": {
          "base_uri": "https://localhost:8080/"
        },
        "id": "0w8-yKrevuFU",
        "outputId": "9ac43365-0961-4f62-a527-5986fb554c96"
      },
      "source": [
        "print(soup.prettify())"
      ],
      "execution_count": 6,
      "outputs": [
        {
          "output_type": "stream",
          "name": "stdout",
          "text": [
            "<!-- DOCTYPE html-->\n",
            "<html>\n",
            " <head>\n",
            "  <title>\n",
            "   Page Title\n",
            "  </title>\n",
            " </head>\n",
            " <body>\n",
            "  <h1>\n",
            "   Heading\n",
            "  </h1>\n",
            "  <p>\n",
            "   Paragraph\n",
            "  </p>\n",
            "  <div>\n",
            "   <a href=\"www.google.com\">\n",
            "    google\n",
            "   </a>\n",
            "  </div>\n",
            "  <div class=\"class1\">\n",
            "   <p>\n",
            "    a\n",
            "   </p>\n",
            "   <a href=\"www.naver.com\">\n",
            "    naver\n",
            "   </a>\n",
            "   <p>\n",
            "    b\n",
            "   </p>\n",
            "   <p>\n",
            "    c\n",
            "   </p>\n",
            "  </div>\n",
            "  <div id=\"id1\">\n",
            "   Example page\n",
            "   <p>\n",
            "    g\n",
            "   </p>\n",
            "  </div>\n",
            " </body>\n",
            "</html>\n"
          ]
        }
      ]
    },
    {
      "cell_type": "markdown",
      "metadata": {
        "id": "8JmMDnLewMS0"
      },
      "source": [
        "### HTML 태그 파싱"
      ]
    },
    {
      "cell_type": "code",
      "metadata": {
        "colab": {
          "base_uri": "https://localhost:8080/"
        },
        "id": "q-d2oW-HwQ12",
        "outputId": "a7f5e37e-7822-4a1c-eb48-076d1310a8ab"
      },
      "source": [
        "# 태그명 포함 텍스트\n",
        "soup.title"
      ],
      "execution_count": 7,
      "outputs": [
        {
          "output_type": "execute_result",
          "data": {
            "text/plain": [
              "<title>Page Title</title>"
            ]
          },
          "metadata": {},
          "execution_count": 7
        }
      ]
    },
    {
      "cell_type": "code",
      "metadata": {
        "colab": {
          "base_uri": "https://localhost:8080/",
          "height": 34
        },
        "id": "WmniWO3swS3W",
        "outputId": "d2e69f3d-ff8b-4b84-b621-c9343b4ab6f5"
      },
      "source": [
        "# 태그명만 출력\n",
        "soup.title.name"
      ],
      "execution_count": 8,
      "outputs": [
        {
          "output_type": "execute_result",
          "data": {
            "application/vnd.google.colaboratory.intrinsic+json": {
              "type": "string"
            },
            "text/plain": [
              "'title'"
            ]
          },
          "metadata": {},
          "execution_count": 8
        }
      ]
    },
    {
      "cell_type": "code",
      "metadata": {
        "colab": {
          "base_uri": "https://localhost:8080/",
          "height": 34
        },
        "id": "V7zYwoGZwbwh",
        "outputId": "3acfb4a1-eae7-41ea-f4d7-19d872d1a7b5"
      },
      "source": [
        "# 태그명 제거 텍스트(값)\n",
        "soup.title.string"
      ],
      "execution_count": 9,
      "outputs": [
        {
          "output_type": "execute_result",
          "data": {
            "application/vnd.google.colaboratory.intrinsic+json": {
              "type": "string"
            },
            "text/plain": [
              "'Page Title'"
            ]
          },
          "metadata": {},
          "execution_count": 9
        }
      ]
    },
    {
      "cell_type": "code",
      "metadata": {
        "colab": {
          "base_uri": "https://localhost:8080/"
        },
        "id": "_hdV6cJVwn3H",
        "outputId": "189e138c-5214-4ae0-c504-96e793ad21af"
      },
      "source": [
        "# 태그가 포함되어 있는 부모 태그 추출\n",
        "soup.title.parent"
      ],
      "execution_count": 10,
      "outputs": [
        {
          "output_type": "execute_result",
          "data": {
            "text/plain": [
              "<head>\n",
              "<title>Page Title</title>\n",
              "</head>"
            ]
          },
          "metadata": {},
          "execution_count": 10
        }
      ]
    },
    {
      "cell_type": "code",
      "metadata": {
        "colab": {
          "base_uri": "https://localhost:8080/",
          "height": 34
        },
        "id": "DJ1WkaZZwrxM",
        "outputId": "26a93467-d697-4d4a-faae-da9b94f50667"
      },
      "source": [
        "soup.title.parent.name"
      ],
      "execution_count": 11,
      "outputs": [
        {
          "output_type": "execute_result",
          "data": {
            "application/vnd.google.colaboratory.intrinsic+json": {
              "type": "string"
            },
            "text/plain": [
              "'head'"
            ]
          },
          "metadata": {},
          "execution_count": 11
        }
      ]
    },
    {
      "cell_type": "code",
      "metadata": {
        "id": "s0eB3gzYwyJm"
      },
      "source": [
        "# HTML 구조적 관계를 위 메서드를 활용하여 알아낼 수 있다."
      ],
      "execution_count": 12,
      "outputs": []
    },
    {
      "cell_type": "code",
      "metadata": {
        "colab": {
          "base_uri": "https://localhost:8080/"
        },
        "id": "Ysc2Vpjdw4rb",
        "outputId": "801d3711-8d7f-4ced-82a0-99bb9200b620"
      },
      "source": [
        "soup.h1"
      ],
      "execution_count": 13,
      "outputs": [
        {
          "output_type": "execute_result",
          "data": {
            "text/plain": [
              "<h1>Heading</h1>"
            ]
          },
          "metadata": {},
          "execution_count": 13
        }
      ]
    },
    {
      "cell_type": "code",
      "metadata": {
        "colab": {
          "base_uri": "https://localhost:8080/"
        },
        "id": "_idsOngCw6RY",
        "outputId": "1bce53e4-a425-4775-f9d1-1517f8e54045"
      },
      "source": [
        "soup.p"
      ],
      "execution_count": 14,
      "outputs": [
        {
          "output_type": "execute_result",
          "data": {
            "text/plain": [
              "<p>Paragraph</p>"
            ]
          },
          "metadata": {},
          "execution_count": 14
        }
      ]
    },
    {
      "cell_type": "code",
      "metadata": {
        "colab": {
          "base_uri": "https://localhost:8080/"
        },
        "id": "xClfRjigw62q",
        "outputId": "7b87ec71-141d-46ac-8cc6-e3ba206a2209"
      },
      "source": [
        "soup.div"
      ],
      "execution_count": 15,
      "outputs": [
        {
          "output_type": "execute_result",
          "data": {
            "text/plain": [
              "<div>\n",
              "<a href=\"www.google.com\">google</a>\n",
              "</div>"
            ]
          },
          "metadata": {},
          "execution_count": 15
        }
      ]
    },
    {
      "cell_type": "code",
      "metadata": {
        "colab": {
          "base_uri": "https://localhost:8080/"
        },
        "id": "7-_jF28Mw7mh",
        "outputId": "461b1869-1538-4568-9538-a4379678bf49"
      },
      "source": [
        "soup.a"
      ],
      "execution_count": 16,
      "outputs": [
        {
          "output_type": "execute_result",
          "data": {
            "text/plain": [
              "<a href=\"www.google.com\">google</a>"
            ]
          },
          "metadata": {},
          "execution_count": 16
        }
      ]
    },
    {
      "cell_type": "markdown",
      "metadata": {
        "id": "m70m1yD7w-2j"
      },
      "source": [
        "### HTML 태그 검색 메서드\n",
        "- find()\n",
        "  - 해당 조건에 맞는 하나의 태그 추출\n",
        "- find_all()\n",
        "  - 해당 조건에 맞는 모든 태그 추출\n",
        "- select()\n",
        "  - CSS Selector와 같은 형식으로 선택 가능"
      ]
    },
    {
      "cell_type": "code",
      "metadata": {
        "id": "Tnclg-eIxC6k",
        "colab": {
          "base_uri": "https://localhost:8080/"
        },
        "outputId": "6ca9355a-d4bb-423a-c046-d36e34be2871"
      },
      "source": [
        "# 첫번째 div 태그 추출\n",
        "soup_find = soup.find('div')\n",
        "print(soup_find)"
      ],
      "execution_count": 17,
      "outputs": [
        {
          "output_type": "stream",
          "name": "stdout",
          "text": [
            "<div>\n",
            "<a href=\"www.google.com\">google</a>\n",
            "</div>\n"
          ]
        }
      ]
    },
    {
      "cell_type": "code",
      "metadata": {
        "colab": {
          "base_uri": "https://localhost:8080/"
        },
        "id": "YWtEuTWoxZkF",
        "outputId": "4802f079-6a21-4f33-eb4e-d4f99a6e3e37"
      },
      "source": [
        "# 모든 div 태그 추출\n",
        "soup_find_all = soup.find_all('div')\n",
        "print(soup_find_all)"
      ],
      "execution_count": 18,
      "outputs": [
        {
          "output_type": "stream",
          "name": "stdout",
          "text": [
            "[<div>\n",
            "<a href=\"www.google.com\">google</a>\n",
            "</div>, <div class=\"class1\">\n",
            "<p>a</p>\n",
            "<a href=\"www.naver.com\">naver</a>\n",
            "<p>b</p>\n",
            "<p>c</p>\n",
            "</div>, <div id=\"id1\">\n",
            "      Example page\n",
            "      <p>g</p>\n",
            "</div>]\n"
          ]
        }
      ]
    },
    {
      "cell_type": "code",
      "metadata": {
        "id": "7Wz9Gfl9xj94"
      },
      "source": [
        "# 앞뒤에 꺽쇄([]) 표시로 보아 \"리스트-형태\"로 반환한다는 점 주의하기"
      ],
      "execution_count": 19,
      "outputs": []
    },
    {
      "cell_type": "code",
      "metadata": {
        "colab": {
          "base_uri": "https://localhost:8080/"
        },
        "id": "3ZTToC_-xveo",
        "outputId": "928a194a-8059-4f49-8174-e99c61a20efc"
      },
      "source": [
        "# id 값으로 찾기\n",
        "find_by_id = soup.find('div', {'id': 'id1'})\n",
        "print(find_by_id)"
      ],
      "execution_count": 21,
      "outputs": [
        {
          "output_type": "stream",
          "name": "stdout",
          "text": [
            "<div id=\"id1\">\n",
            "      Example page\n",
            "      <p>g</p>\n",
            "</div>\n"
          ]
        }
      ]
    },
    {
      "cell_type": "code",
      "metadata": {
        "colab": {
          "base_uri": "https://localhost:8080/"
        },
        "id": "b6dLbcnjx_7P",
        "outputId": "4d4278cd-40dc-45bf-bd1e-e117e4c33e40"
      },
      "source": [
        "find_by_id = soup.find_all('div', {'id': 'id1'})\n",
        "print(find_by_id)"
      ],
      "execution_count": 22,
      "outputs": [
        {
          "output_type": "stream",
          "name": "stdout",
          "text": [
            "[<div id=\"id1\">\n",
            "      Example page\n",
            "      <p>g</p>\n",
            "</div>]\n"
          ]
        }
      ]
    },
    {
      "cell_type": "code",
      "metadata": {
        "id": "c7Cb6ijXyExz"
      },
      "source": [
        "# find_all은 리스트 형태로 반환한다."
      ],
      "execution_count": 23,
      "outputs": []
    },
    {
      "cell_type": "code",
      "metadata": {
        "colab": {
          "base_uri": "https://localhost:8080/"
        },
        "id": "f17y2enDyHAa",
        "outputId": "98ca8906-5ec3-4910-f93b-44eb51ff1eef"
      },
      "source": [
        "find_by_class = soup.find_all('div', {'class': 'class1'})\n",
        "print(find_by_class)"
      ],
      "execution_count": 24,
      "outputs": [
        {
          "output_type": "stream",
          "name": "stdout",
          "text": [
            "[<div class=\"class1\">\n",
            "<p>a</p>\n",
            "<a href=\"www.naver.com\">naver</a>\n",
            "<p>b</p>\n",
            "<p>c</p>\n",
            "</div>]\n"
          ]
        }
      ]
    },
    {
      "cell_type": "code",
      "metadata": {
        "colab": {
          "base_uri": "https://localhost:8080/"
        },
        "id": "eRpulWrTyVjs",
        "outputId": "545f75e6-1ac1-4df6-8314-5d824ba04f58"
      },
      "source": [
        "soup.find('a')"
      ],
      "execution_count": 26,
      "outputs": [
        {
          "output_type": "execute_result",
          "data": {
            "text/plain": [
              "<a href=\"www.google.com\">google</a>"
            ]
          },
          "metadata": {},
          "execution_count": 26
        }
      ]
    },
    {
      "cell_type": "code",
      "metadata": {
        "colab": {
          "base_uri": "https://localhost:8080/",
          "height": 34
        },
        "id": "iZmYf5A8yN8X",
        "outputId": "5e919bd6-53ca-4792-e760-d2357602d71c"
      },
      "source": [
        "# 태그의 속성값 추출\n",
        "soup.find('a').get('href')"
      ],
      "execution_count": 25,
      "outputs": [
        {
          "output_type": "execute_result",
          "data": {
            "application/vnd.google.colaboratory.intrinsic+json": {
              "type": "string"
            },
            "text/plain": [
              "'www.google.com'"
            ]
          },
          "metadata": {},
          "execution_count": 25
        }
      ]
    },
    {
      "cell_type": "code",
      "metadata": {
        "colab": {
          "base_uri": "https://localhost:8080/",
          "height": 34
        },
        "id": "HB-Cs-ftyW7A",
        "outputId": "b1bee7eb-0e8d-4c7d-b40d-29671a819464"
      },
      "source": [
        "# 태그의 텍스트 추출\n",
        "soup.find('a').get_text()"
      ],
      "execution_count": 27,
      "outputs": [
        {
          "output_type": "execute_result",
          "data": {
            "application/vnd.google.colaboratory.intrinsic+json": {
              "type": "string"
            },
            "text/plain": [
              "'google'"
            ]
          },
          "metadata": {},
          "execution_count": 27
        }
      ]
    },
    {
      "cell_type": "code",
      "metadata": {
        "colab": {
          "base_uri": "https://localhost:8080/"
        },
        "id": "-68O0DLZy1VD",
        "outputId": "31f63a8e-3b1d-4123-e1cf-f86fde31ca0d"
      },
      "source": [
        "site_names = soup.find_all('a') # list\n",
        "for name in site_names: # for every elem,\n",
        "    print(name.get('href')) # print hyperlink"
      ],
      "execution_count": 31,
      "outputs": [
        {
          "output_type": "stream",
          "name": "stdout",
          "text": [
            "www.google.com\n",
            "www.naver.com\n"
          ]
        }
      ]
    },
    {
      "cell_type": "code",
      "metadata": {
        "colab": {
          "base_uri": "https://localhost:8080/"
        },
        "id": "_8qAyX-pzAgH",
        "outputId": "1678cc0c-f0c6-4f30-a3d0-49aff7fca672"
      },
      "source": [
        "site_names = soup.find_all('a') # list\n",
        "for name in site_names: # for every elem,\n",
        "    print(name.get_text()) # print hyperlink"
      ],
      "execution_count": 32,
      "outputs": [
        {
          "output_type": "stream",
          "name": "stdout",
          "text": [
            "google\n",
            "naver\n"
          ]
        }
      ]
    },
    {
      "cell_type": "markdown",
      "metadata": {
        "id": "3ykvFaGIzip6"
      },
      "source": [
        "#### select method\n",
        "- '#': id\n",
        "- '.': class"
      ]
    },
    {
      "cell_type": "code",
      "metadata": {
        "colab": {
          "base_uri": "https://localhost:8080/"
        },
        "id": "7pf38r7KzDt-",
        "outputId": "54ecc368-d8d0-45a4-a5e5-3d6e8b237613"
      },
      "source": [
        "id1 = soup.select('div#id1')\n",
        "id1"
      ],
      "execution_count": 33,
      "outputs": [
        {
          "output_type": "execute_result",
          "data": {
            "text/plain": [
              "[<div id=\"id1\">\n",
              "       Example page\n",
              "       <p>g</p>\n",
              " </div>]"
            ]
          },
          "metadata": {},
          "execution_count": 33
        }
      ]
    },
    {
      "cell_type": "code",
      "metadata": {
        "colab": {
          "base_uri": "https://localhost:8080/"
        },
        "id": "NVyAIeCIzVqs",
        "outputId": "c55c9d35-9f28-4e1a-d10b-9dd946345fda"
      },
      "source": [
        "class1 = soup.select('div.class1')\n",
        "class1"
      ],
      "execution_count": 35,
      "outputs": [
        {
          "output_type": "execute_result",
          "data": {
            "text/plain": [
              "[<div class=\"class1\">\n",
              " <p>a</p>\n",
              " <a href=\"www.naver.com\">naver</a>\n",
              " <p>b</p>\n",
              " <p>c</p>\n",
              " </div>]"
            ]
          },
          "metadata": {},
          "execution_count": 35
        }
      ]
    },
    {
      "cell_type": "code",
      "metadata": {
        "colab": {
          "base_uri": "https://localhost:8080/"
        },
        "id": "Q7314raaze2q",
        "outputId": "e94a1c76-d0ae-4696-ab30-bde87d2694c1"
      },
      "source": [
        "class1_a = soup.select('div.class1 a')\n",
        "class1_a"
      ],
      "execution_count": 39,
      "outputs": [
        {
          "output_type": "execute_result",
          "data": {
            "text/plain": [
              "[<a href=\"www.naver.com\">naver</a>]"
            ]
          },
          "metadata": {},
          "execution_count": 39
        }
      ]
    },
    {
      "cell_type": "code",
      "metadata": {
        "colab": {
          "base_uri": "https://localhost:8080/"
        },
        "id": "oF7mBljjzvcA",
        "outputId": "3c47bc29-0465-4b26-f931-1db6b9cda2b4"
      },
      "source": [
        "class1_a = soup.select('div.class1 > a')\n",
        "class1_a"
      ],
      "execution_count": 38,
      "outputs": [
        {
          "output_type": "execute_result",
          "data": {
            "text/plain": [
              "[<a href=\"www.naver.com\">naver</a>]"
            ]
          },
          "metadata": {},
          "execution_count": 38
        }
      ]
    },
    {
      "cell_type": "markdown",
      "metadata": {
        "id": "DuHboeUozxMt"
      },
      "source": [
        "### 웹페이지 콘텐츠 가져오기"
      ]
    },
    {
      "cell_type": "code",
      "metadata": {
        "colab": {
          "base_uri": "https://localhost:8080/"
        },
        "id": "ODg72lx1z4MN",
        "outputId": "f3061fff-f675-425a-91a0-b1e6ed0cd98a"
      },
      "source": [
        "%%writefile anthem.html\n",
        "<!DOCTYPE html>\n",
        "<html>\n",
        "<head>\n",
        "</head>\n",
        "<body>\n",
        "  <div>\n",
        "  <p id=\"title\">애국가</p>\n",
        "  <p id=\"content\">\n",
        "    동해물과 백두산이 마르고 닳도록 하느님이 보우하사 우리나라만세.<br />\n",
        "    무궁화 삼천리 화려 강산 대한 사람, 대한으로 길이 보전하세.<br />\n",
        "  </p>\n",
        "  <p id=\"content\">\n",
        "    남산 위에 저 소나무, 철갑을 두른 듯 바람 서리 불변함은 우리 기상일세.<br />\n",
        "    무궁화 삼천리 화려 강산 대한 사람, 대한으로 길이 보전하세.<br />\n",
        "  </p>\n",
        "  <p id=\"content\">\n",
        "    가을 하늘 공활한데 높고 구름 없이 밝은 달은 우리 가슴 일편단심일세.<br />\n",
        "    무궁화 삼천리 화려 강산 대한 사람, 대한으로 길이 보전하세.<br />\n",
        "  </p>\n",
        "  <p id=\"content\">\n",
        "    이 기상과 이 맘으로 충성을 다하여 괴로우나 즐거우나 나라 사랑하세.<br />\n",
        "    무궁화 삼천리 화려 강산 대한 사람, 대한으로 길이 보전하세.<br />\n",
        "  </p>\n",
        "  </div>\n",
        "</body>\n",
        "</html>"
      ],
      "execution_count": 47,
      "outputs": [
        {
          "output_type": "stream",
          "name": "stdout",
          "text": [
            "Overwriting anthem.html\n"
          ]
        }
      ]
    },
    {
      "cell_type": "code",
      "metadata": {
        "colab": {
          "base_uri": "https://localhost:8080/"
        },
        "id": "FxaV8zXF0ltD",
        "outputId": "5bc2b885-7b4f-4248-a462-3b07c5bc2cf1"
      },
      "source": [
        "with open(\"anthem.html\") as fp:\n",
        "    soup = BeautifulSoup(fp, 'html.parser')\n",
        "\n",
        "soup"
      ],
      "execution_count": 48,
      "outputs": [
        {
          "output_type": "execute_result",
          "data": {
            "text/plain": [
              "<!DOCTYPE html>\n",
              "\n",
              "<html>\n",
              "<head>\n",
              "</head>\n",
              "<body>\n",
              "<div>\n",
              "<p id=\"title\">애국가</p>\n",
              "<p id=\"content\">\n",
              "    동해물과 백두산이 마르고 닳도록 하느님이 보우하사 우리나라만세.<br/>\n",
              "    무궁화 삼천리 화려 강산 대한 사람, 대한으로 길이 보전하세.<br/>\n",
              "</p>\n",
              "<p id=\"content\">\n",
              "    남산 위에 저 소나무, 철갑을 두른 듯 바람 서리 불변함은 우리 기상일세.<br/>\n",
              "    무궁화 삼천리 화려 강산 대한 사람, 대한으로 길이 보전하세.<br/>\n",
              "</p>\n",
              "<p id=\"content\">\n",
              "    가을 하늘 공활한데 높고 구름 없이 밝은 달은 우리 가슴 일편단심일세.<br/>\n",
              "    무궁화 삼천리 화려 강산 대한 사람, 대한으로 길이 보전하세.<br/>\n",
              "</p>\n",
              "<p id=\"content\">\n",
              "    이 기상과 이 맘으로 충성을 다하여 괴로우나 즐거우나 나라 사랑하세.<br/>\n",
              "    무궁화 삼천리 화려 강산 대한 사람, 대한으로 길이 보전하세.<br/>\n",
              "</p>\n",
              "</div>\n",
              "</body>\n",
              "</html>"
            ]
          },
          "metadata": {},
          "execution_count": 48
        }
      ]
    },
    {
      "cell_type": "code",
      "metadata": {
        "colab": {
          "base_uri": "https://localhost:8080/"
        },
        "id": "ie-_PnU_0v-U",
        "outputId": "27220fee-05ab-4449-8c4c-e1ec80cc7b38"
      },
      "source": [
        "title = soup.find('p', {'id': 'title'})\n",
        "contents = soup.find_all('p', {'id': 'content'})\n",
        "\n",
        "print(title.get_text())\n",
        "for content in contents:\n",
        "    print(content.get_text())"
      ],
      "execution_count": 49,
      "outputs": [
        {
          "output_type": "stream",
          "name": "stdout",
          "text": [
            "애국가\n",
            "\n",
            "    동해물과 백두산이 마르고 닳도록 하느님이 보우하사 우리나라만세.\n",
            "    무궁화 삼천리 화려 강산 대한 사람, 대한으로 길이 보전하세.\n",
            "\n",
            "\n",
            "    남산 위에 저 소나무, 철갑을 두른 듯 바람 서리 불변함은 우리 기상일세.\n",
            "    무궁화 삼천리 화려 강산 대한 사람, 대한으로 길이 보전하세.\n",
            "\n",
            "\n",
            "    가을 하늘 공활한데 높고 구름 없이 밝은 달은 우리 가슴 일편단심일세.\n",
            "    무궁화 삼천리 화려 강산 대한 사람, 대한으로 길이 보전하세.\n",
            "\n",
            "\n",
            "    이 기상과 이 맘으로 충성을 다하여 괴로우나 즐거우나 나라 사랑하세.\n",
            "    무궁화 삼천리 화려 강산 대한 사람, 대한으로 길이 보전하세.\n",
            "\n"
          ]
        }
      ]
    },
    {
      "cell_type": "markdown",
      "metadata": {
        "id": "i9XBFPrx1Gle"
      },
      "source": [
        "### 인터넷 웹페이지 가져오기"
      ]
    },
    {
      "cell_type": "code",
      "metadata": {
        "id": "j01qKeSp1d6V"
      },
      "source": [
        "url = \"http://suanlab.com\"\n",
        "html = urllib.request.urlopen(url).read()\n",
        "soup = BeautifulSoup(html, 'html.parser')\n",
        "soup"
      ],
      "execution_count": null,
      "outputs": []
    },
    {
      "cell_type": "code",
      "metadata": {
        "colab": {
          "base_uri": "https://localhost:8080/"
        },
        "id": "HUgUoO4B2b0G",
        "outputId": "b5170582-c6e6-46a2-b0ea-e51cc0f670f4"
      },
      "source": [
        "labels = soup.find_all(['label'])\n",
        "for label in labels:\n",
        "    print(label.get_text())"
      ],
      "execution_count": 53,
      "outputs": [
        {
          "output_type": "stream",
          "name": "stdout",
          "text": [
            "[2020-04-14] \"메타버스 시대가 오고 있다\"\n",
            "[2020-01-20] \"바이러스 연구부터 뷰티·배달 AI 결합한 비즈니스...\"\n",
            "[2020-10-07] \"이력서 작성·레시피 제공 다양하게 활용되는 GPT3\"\n",
            "[2020-05-20] \"인공지능의 보안 위협\"\n",
            "[2020-03-04] \"데이터 경제 시대\"\n",
            "[2019-12-25] \"마이데이터 시대의 도래 데이터 주권과 새로운 가치\"\n",
            "[2019-09-04] \"농업으로 들어간 인공지능\"\n",
            "[2019-08-07] \"AI시대 지배할 것인가 지배당하며 살 것인가\"\n"
          ]
        }
      ]
    },
    {
      "cell_type": "code",
      "metadata": {
        "colab": {
          "base_uri": "https://localhost:8080/"
        },
        "id": "0rP3BYiD3EF4",
        "outputId": "9713008a-daef-49aa-c667-718bcefa23ae"
      },
      "source": [
        "labels = soup.select('#wrapper > section > div > div > div > div > div > label')\n",
        "for label in labels:\n",
        "    print(label.get_text())"
      ],
      "execution_count": 56,
      "outputs": [
        {
          "output_type": "stream",
          "name": "stdout",
          "text": [
            "[2020-04-14] \"메타버스 시대가 오고 있다\"\n",
            "[2020-01-20] \"바이러스 연구부터 뷰티·배달 AI 결합한 비즈니스...\"\n",
            "[2020-10-07] \"이력서 작성·레시피 제공 다양하게 활용되는 GPT3\"\n",
            "[2020-05-20] \"인공지능의 보안 위협\"\n",
            "[2020-03-04] \"데이터 경제 시대\"\n",
            "[2019-12-25] \"마이데이터 시대의 도래 데이터 주권과 새로운 가치\"\n",
            "[2019-09-04] \"농업으로 들어간 인공지능\"\n",
            "[2019-08-07] \"AI시대 지배할 것인가 지배당하며 살 것인가\"\n"
          ]
        }
      ]
    },
    {
      "cell_type": "markdown",
      "metadata": {
        "id": "qMZ6RC4Q3QiU"
      },
      "source": [
        "![image.png](data:image/png;base64,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)"
      ]
    },
    {
      "cell_type": "markdown",
      "metadata": {
        "id": "iyD7xemA3ZP0"
      },
      "source": [
        "- (원본) #wrapper > section > div > div > div:nth-child(1) > div > div:nth-child(2) > label\n",
        "- nth-child(n)을 가져오게 되면 한 요소만 가져오게 되므로 제거한다.\n",
        "- (수정) #wrapper > section > div > div > div > div > div > label"
      ]
    }
  ]
}