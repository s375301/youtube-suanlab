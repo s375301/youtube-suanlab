{
  "nbformat": 4,
  "nbformat_minor": 0,
  "metadata": {
    "colab": {
      "name": "101-NLP-basics.ipynb",
      "provenance": [],
      "collapsed_sections": [],
      "authorship_tag": "ABX9TyOWzNNN9foTt0Yvqfzywr8u"
    },
    "kernelspec": {
      "name": "python3",
      "display_name": "Python 3"
    },
    "language_info": {
      "name": "python"
    }
  },
  "cells": [
    {
      "cell_type": "markdown",
      "metadata": {
        "id": "qVDU8tOYuNfK"
      },
      "source": [
        "# 자연어 처리(NLP)"
      ]
    },
    {
      "cell_type": "markdown",
      "metadata": {
        "id": "lOY0hgsgutyA"
      },
      "source": [
        "- 자연어: 일상생활에서 사용하는 언어\n",
        "- NLP: 자연어의 의미를 분석하는 일\n",
        "- 텍스트 분류, 감성분석, 문서요약, 번역, 질의응답, 음성인식, 챗봇과 같은 응용"
      ]
    },
    {
      "cell_type": "markdown",
      "metadata": {
        "id": "kD6kjDKNu9cI"
      },
      "source": [
        "### 텍스트 처리"
      ]
    },
    {
      "cell_type": "code",
      "metadata": {
        "id": "paAVcstuu-1R"
      },
      "source": [
        "s = 'No pain no gain' # string"
      ],
      "execution_count": 118,
      "outputs": []
    },
    {
      "cell_type": "code",
      "metadata": {
        "colab": {
          "base_uri": "https://localhost:8080/"
        },
        "id": "sKl5kRGQvDal",
        "outputId": "43a13c1d-b927-41e4-effc-3f82f0d26418"
      },
      "source": [
        "'pain' in s"
      ],
      "execution_count": 119,
      "outputs": [
        {
          "output_type": "execute_result",
          "data": {
            "text/plain": [
              "True"
            ]
          },
          "metadata": {},
          "execution_count": 119
        }
      ]
    },
    {
      "cell_type": "code",
      "metadata": {
        "colab": {
          "base_uri": "https://localhost:8080/"
        },
        "id": "hd9-_tTcvEZI",
        "outputId": "532f1b23-29ec-413a-d8b1-bd24a0e817b5"
      },
      "source": [
        "s.split()"
      ],
      "execution_count": 120,
      "outputs": [
        {
          "output_type": "execute_result",
          "data": {
            "text/plain": [
              "['No', 'pain', 'no', 'gain']"
            ]
          },
          "metadata": {},
          "execution_count": 120
        }
      ]
    },
    {
      "cell_type": "code",
      "metadata": {
        "colab": {
          "base_uri": "https://localhost:8080/"
        },
        "id": "jZrBbNbwvHeA",
        "outputId": "5ff6ccd6-5733-4bf2-aba1-ebab3022a85b"
      },
      "source": [
        "s.split().index('gain') # index == position"
      ],
      "execution_count": 121,
      "outputs": [
        {
          "output_type": "execute_result",
          "data": {
            "text/plain": [
              "3"
            ]
          },
          "metadata": {},
          "execution_count": 121
        }
      ]
    },
    {
      "cell_type": "code",
      "metadata": {
        "colab": {
          "base_uri": "https://localhost:8080/",
          "height": 35
        },
        "id": "Y8LUT6CTvXJC",
        "outputId": "177432f2-ffaa-4d84-c26b-72a18d94d835"
      },
      "source": [
        "s[-4:] # slicing"
      ],
      "execution_count": 122,
      "outputs": [
        {
          "output_type": "execute_result",
          "data": {
            "application/vnd.google.colaboratory.intrinsic+json": {
              "type": "string"
            },
            "text/plain": [
              "'gain'"
            ]
          },
          "metadata": {},
          "execution_count": 122
        }
      ]
    },
    {
      "cell_type": "code",
      "metadata": {
        "colab": {
          "base_uri": "https://localhost:8080/",
          "height": 35
        },
        "id": "6o8v7ranvdAD",
        "outputId": "8a1b41ec-fdd7-4711-dadf-55c79f3f2d8b"
      },
      "source": [
        "s.split()[1] # indexing"
      ],
      "execution_count": 123,
      "outputs": [
        {
          "output_type": "execute_result",
          "data": {
            "application/vnd.google.colaboratory.intrinsic+json": {
              "type": "string"
            },
            "text/plain": [
              "'pain'"
            ]
          },
          "metadata": {},
          "execution_count": 123
        }
      ]
    },
    {
      "cell_type": "code",
      "metadata": {
        "colab": {
          "base_uri": "https://localhost:8080/",
          "height": 35
        },
        "id": "zLZ7C3a-vi_Q",
        "outputId": "1e3870b9-4b55-4015-86bc-c8b1d0fb55cb"
      },
      "source": [
        "s.split()[1][::-1] # indexing-reverse"
      ],
      "execution_count": 124,
      "outputs": [
        {
          "output_type": "execute_result",
          "data": {
            "application/vnd.google.colaboratory.intrinsic+json": {
              "type": "string"
            },
            "text/plain": [
              "'niap'"
            ]
          },
          "metadata": {},
          "execution_count": 124
        }
      ]
    },
    {
      "cell_type": "code",
      "metadata": {
        "id": "gtmtQhrkvlaI"
      },
      "source": [
        "s = \"한글도 처리 가능\" # encoding='utf-8'"
      ],
      "execution_count": 125,
      "outputs": []
    },
    {
      "cell_type": "code",
      "metadata": {
        "colab": {
          "base_uri": "https://localhost:8080/"
        },
        "id": "SnHdXb96vyM7",
        "outputId": "fde52e03-b2d0-470c-9e58-469eeedf6b8a"
      },
      "source": [
        "'처리' in s"
      ],
      "execution_count": 126,
      "outputs": [
        {
          "output_type": "execute_result",
          "data": {
            "text/plain": [
              "True"
            ]
          },
          "metadata": {},
          "execution_count": 126
        }
      ]
    },
    {
      "cell_type": "code",
      "metadata": {
        "colab": {
          "base_uri": "https://localhost:8080/"
        },
        "id": "6_1eM-Kmvzo8",
        "outputId": "23062a61-f047-43c9-8491-50cec72ffb80"
      },
      "source": [
        "s.split()"
      ],
      "execution_count": 127,
      "outputs": [
        {
          "output_type": "execute_result",
          "data": {
            "text/plain": [
              "['한글도', '처리', '가능']"
            ]
          },
          "metadata": {},
          "execution_count": 127
        }
      ]
    },
    {
      "cell_type": "code",
      "metadata": {
        "colab": {
          "base_uri": "https://localhost:8080/",
          "height": 35
        },
        "id": "-nH1M1Cfv0yM",
        "outputId": "d4e17f25-7b83-4a5f-d8be-d14ec8327d2c"
      },
      "source": [
        "s.split()[0]"
      ],
      "execution_count": 128,
      "outputs": [
        {
          "output_type": "execute_result",
          "data": {
            "application/vnd.google.colaboratory.intrinsic+json": {
              "type": "string"
            },
            "text/plain": [
              "'한글도'"
            ]
          },
          "metadata": {},
          "execution_count": 128
        }
      ]
    },
    {
      "cell_type": "markdown",
      "metadata": {
        "id": "DSDNHN7Lv3Il"
      },
      "source": [
        "## 영어 처리"
      ]
    },
    {
      "cell_type": "markdown",
      "metadata": {
        "id": "0jiVcfxbwBtn"
      },
      "source": [
        "- 한국어와 영어는 같은 '언어'이지만, 처리 방식이 다르다."
      ]
    },
    {
      "cell_type": "markdown",
      "metadata": {
        "id": "LyRmn8vmv6fd"
      },
      "source": [
        "### 대소문자 통합\n",
        "- 영어는 대소문자에 의해 구분될 수 있음\n",
        "- ```lower()```와 ```upper()``` 메서드 활용"
      ]
    },
    {
      "cell_type": "code",
      "metadata": {
        "colab": {
          "base_uri": "https://localhost:8080/"
        },
        "id": "UyUg4i2NwR5Z",
        "outputId": "a89bee14-578f-476a-c112-69c6756b2913"
      },
      "source": [
        "s = 'AbCdEfGh'\n",
        "s.lower(), s.upper()"
      ],
      "execution_count": 129,
      "outputs": [
        {
          "output_type": "execute_result",
          "data": {
            "text/plain": [
              "('abcdefgh', 'ABCDEFGH')"
            ]
          },
          "metadata": {},
          "execution_count": 129
        }
      ]
    },
    {
      "cell_type": "markdown",
      "metadata": {
        "id": "UgFFY-oLwcpt"
      },
      "source": [
        "## 정규화(Normalization)"
      ]
    },
    {
      "cell_type": "markdown",
      "metadata": {
        "id": "JLR-L688w5tP"
      },
      "source": [
        "- 같은 표현이나 숨겨진 의미를 원상복구"
      ]
    },
    {
      "cell_type": "code",
      "metadata": {
        "colab": {
          "base_uri": "https://localhost:8080/",
          "height": 35
        },
        "id": "fD0h7w6gwh1k",
        "outputId": "a8796b0c-297e-4055-917c-fab0afc20267"
      },
      "source": [
        "s = 'I visited UK from US on 22-09-20'\n",
        "s"
      ],
      "execution_count": 130,
      "outputs": [
        {
          "output_type": "execute_result",
          "data": {
            "application/vnd.google.colaboratory.intrinsic+json": {
              "type": "string"
            },
            "text/plain": [
              "'I visited UK from US on 22-09-20'"
            ]
          },
          "metadata": {},
          "execution_count": 130
        }
      ]
    },
    {
      "cell_type": "code",
      "metadata": {
        "colab": {
          "base_uri": "https://localhost:8080/",
          "height": 35
        },
        "id": "OoyOSyJZwoeZ",
        "outputId": "fdeb68e7-6582-4ba9-88fe-05179e5f2372"
      },
      "source": [
        "new_s = s.replace(\"UK\", \"United Kingdom\").replace(\"US\", \"United States\").replace(\"-20\", \"-2020\")\n",
        "new_s"
      ],
      "execution_count": 131,
      "outputs": [
        {
          "output_type": "execute_result",
          "data": {
            "application/vnd.google.colaboratory.intrinsic+json": {
              "type": "string"
            },
            "text/plain": [
              "'I visited United Kingdom from United States on 22-09-2020'"
            ]
          },
          "metadata": {},
          "execution_count": 131
        }
      ]
    },
    {
      "cell_type": "markdown",
      "metadata": {
        "id": "PPHQAFtBwvsI"
      },
      "source": [
        "## 정규표현식"
      ]
    },
    {
      "cell_type": "markdown",
      "metadata": {
        "id": "j2p4jHNOxDtR"
      },
      "source": [
        "- 특정 문자를 다루기 쉬움\n",
        "- 데이터 전처리에서 정규 표현식을 자주 활용\n",
        "  - 이메일 등\n",
        "- ```re``` 패키지 활용"
      ]
    },
    {
      "cell_type": "markdown",
      "metadata": {
        "id": "NmbfSF6DxSks"
      },
      "source": [
        "* 정규 표현식 문법\n",
        "  \n",
        "| 특수문자 | 설명 |\n",
        "| - | - |\n",
        "| `.` | 앞의 문자 1개를 표현 |\n",
        "| `?` | 문자 한개를 표현하나 존재할 수도, 존재하지 않을 수도 있음(0개 또는 1개) |\n",
        "| `*` | 앞의 문자가 0개 이상 |\n",
        "| `+` | 앞의 문자가 최소 1개 이상 |\n",
        "| `^` | 뒤의 문자로 문자열이 시작 |\n",
        "| `\\$` | 앞의 문자로 문자열이 끝남 |\n",
        "| `\\{n\\}` | `n`번만큼 반복 |\n",
        "| `\\{n1, n2\\}` | `n1` 이상, `n2` 이하만큼 반복, n2를 지정하지 않으면 `n1` 이상만 반복 |\n",
        "| `\\[ abc \\]` | 안에 문자들 중 한 개의 문자와 매치, a-z처럼 범위도 지정 가능 |\n",
        "| `\\[ ^a \\]` | 해당 문자를 제외하고 매치 |\n",
        "| `a\\|b` | `a` 또는 `b`를 나타냄 |"
      ]
    },
    {
      "cell_type": "markdown",
      "metadata": {
        "id": "hyeJAT5uxabD"
      },
      "source": [
        "* 정규 표현식에 자주 사용하는 역슬래시(\\\\)를 이용한 문자 규칙\n",
        "\n",
        "| 문자 | 설명 |\n",
        "| - | - |\n",
        "| `\\\\` | 역슬래시 자체를 의미 |\n",
        "| `\\d` | 모든 숫자를 의미, [0-9]와 동일 |\n",
        "| `\\D` | 숫자를 제외한 모든 문자를 의미, [^0-9]와 동일 |\n",
        "| `\\s` | 공백을 의미, [ \\t\\n\\r\\f\\v]와 동일|\n",
        "| `\\S` | 공백을 제외한 모든 문자를 의미, [^ \\t\\n\\r\\f\\v]와 동일 |\n",
        "| `\\w` | 문자와 숫자를 의미, [a-zA-Z0-9]와 동일 |\n",
        "| `\\W` | 문자와 숫자를 제외한 다른 문자를 의미, [^a-zA-Z0-9]와 동일 "
      ]
    },
    {
      "cell_type": "code",
      "metadata": {
        "id": "lWlV_oM0xb4w"
      },
      "source": [
        "# d: decimal, s: space, w: word"
      ],
      "execution_count": 132,
      "outputs": []
    },
    {
      "cell_type": "markdown",
      "metadata": {
        "id": "haN_c0k701F2"
      },
      "source": [
        "### match"
      ]
    },
    {
      "cell_type": "code",
      "metadata": {
        "id": "rQSjpDyL03z4"
      },
      "source": [
        "import re"
      ],
      "execution_count": 133,
      "outputs": []
    },
    {
      "cell_type": "code",
      "metadata": {
        "colab": {
          "base_uri": "https://localhost:8080/"
        },
        "id": "_Vej_pGc04Xb",
        "outputId": "2e7fc0d5-8d8d-4184-a1a3-dad4c3dc2068"
      },
      "source": [
        "check = 'ab.'\n",
        "\n",
        "print(re.match(check, 'abc')) # re.match(pat, str): None or Match Obj\n",
        "print(re.match(check, 'c'))\n",
        "print(re.match(check, 'ab')) # .: 반드시 한문자 이상 와야한다 -> return None"
      ],
      "execution_count": 134,
      "outputs": [
        {
          "output_type": "stream",
          "name": "stdout",
          "text": [
            "<re.Match object; span=(0, 3), match='abc'>\n",
            "None\n",
            "None\n"
          ]
        }
      ]
    },
    {
      "cell_type": "markdown",
      "metadata": {
        "id": "4Sz-AaU31Ofv"
      },
      "source": [
        "### compile\n",
        "- 자주 사용하는 경우, ```compile``` 해놓은 게 더 빠른 속도로 처리\n",
        "- ```compile```을 이용하는 경우, ```re``` 가 아닌 컴파일 객체 이름을 사용해야함"
      ]
    },
    {
      "cell_type": "code",
      "metadata": {
        "colab": {
          "base_uri": "https://localhost:8080/"
        },
        "id": "ihEgjNdD1tZh",
        "outputId": "f862c20a-9996-480a-bc3d-c267b7a8a25c"
      },
      "source": [
        "import time\n",
        "\n",
        "normal_s_time = time.time()\n",
        "r = 'ab.'\n",
        "for i in range(1000):\n",
        "    re.match(check, 'abc')\n",
        "print(f'일반 소요된 시간: {time.time() - normal_s_time:.4f}')\n",
        "\n",
        "pat = re.compile('ab.')\n",
        "compile_s_time = time.time()\n",
        "for i in range(1000):\n",
        "    pat.match('abc')\n",
        "print(f'컴파일 시 소요된 시간: {time.time() - compile_s_time:.4f}')"
      ],
      "execution_count": 135,
      "outputs": [
        {
          "output_type": "stream",
          "name": "stdout",
          "text": [
            "일반 소요된 시간: 0.0022\n",
            "컴파일 시 소요된 시간: 0.0009\n"
          ]
        }
      ]
    },
    {
      "cell_type": "markdown",
      "metadata": {
        "id": "bmf2LoD-2LeQ"
      },
      "source": [
        "### search\n",
        "- match와 다르게 문자열 전체를 검사"
      ]
    },
    {
      "cell_type": "code",
      "metadata": {
        "colab": {
          "base_uri": "https://localhost:8080/"
        },
        "id": "WSDO8nEC5pmV",
        "outputId": "f36fe752-67b0-411e-c2e1-ea136ecbb4fe"
      },
      "source": [
        "pat = 'ab?' # a는 반드시 있고, b는 있을 수도 없을 수도 있음.\n",
        "\n",
        "print(re.search(pat, 'a'))\n",
        "print(re.match(pat, 'akkkab')) # 시작에 a가 있어서 matched\n",
        "print(re.match(pat, 'kkkab')) # a로 시작하지 않기 때문에 None\n",
        "print(re.search(pat, 'kkkab')) # 문자열 전체 중 찾기 때문에 searched\n",
        "print(re.match(pat, 'ab'))"
      ],
      "execution_count": 136,
      "outputs": [
        {
          "output_type": "stream",
          "name": "stdout",
          "text": [
            "<re.Match object; span=(0, 1), match='a'>\n",
            "<re.Match object; span=(0, 1), match='a'>\n",
            "None\n",
            "<re.Match object; span=(3, 5), match='ab'>\n",
            "<re.Match object; span=(0, 2), match='ab'>\n"
          ]
        }
      ]
    },
    {
      "cell_type": "markdown",
      "metadata": {
        "id": "N_qzDfWt5-A7"
      },
      "source": [
        "### split\n",
        "- 정규 표현식과 일치하는 부분을 다른 문자열로 교체"
      ]
    },
    {
      "cell_type": "code",
      "metadata": {
        "colab": {
          "base_uri": "https://localhost:8080/"
        },
        "id": "q_8hwUIM7D2U",
        "outputId": "5ea23328-25b8-4baf-ed5f-80809fdbda57"
      },
      "source": [
        "com = re.compile(' ') # 공백을 기준으로 스플릿\n",
        "print(com.split('abc abbc abcb'))\n",
        "\n",
        "com = re.compile('c') # c를 기준으로 스플릿\n",
        "print(com.split('abc abbc abcbbd'))\n",
        "\n",
        "com = re.compile('[1-9]') # 숫자를 기준으로 스플릿\n",
        "print(com.split('s1bac v4c1 4sss 6a'))"
      ],
      "execution_count": 137,
      "outputs": [
        {
          "output_type": "stream",
          "name": "stdout",
          "text": [
            "['abc', 'abbc', 'abcb']\n",
            "['ab', ' abb', ' ab', 'bbd']\n",
            "['s', 'bac v', 'c', ' ', 'sss ', 'a']\n"
          ]
        }
      ]
    },
    {
      "cell_type": "code",
      "metadata": {
        "id": "j1TfDiEa7jQI"
      },
      "source": [
        "# []: 대괄호 안에 들어가면 안에 무수히 많은 단어가 있어도 한문자"
      ],
      "execution_count": 138,
      "outputs": []
    },
    {
      "cell_type": "markdown",
      "metadata": {
        "id": "g58sRGe-_gpg"
      },
      "source": [
        "### sub\n",
        "- 정규식과 일치하는 부분을 다른 문자열로 대치"
      ]
    },
    {
      "cell_type": "code",
      "metadata": {
        "colab": {
          "base_uri": "https://localhost:8080/",
          "height": 35
        },
        "id": "Rks5XgHW_raX",
        "outputId": "4d350fa8-89e5-4a19-ec4d-960488aba8c9"
      },
      "source": [
        "re.sub('[a-z]', '1', 'abcdefg') # re.sub('pattern', 'replacement', str)"
      ],
      "execution_count": 139,
      "outputs": [
        {
          "output_type": "execute_result",
          "data": {
            "application/vnd.google.colaboratory.intrinsic+json": {
              "type": "string"
            },
            "text/plain": [
              "'1111111'"
            ]
          },
          "metadata": {},
          "execution_count": 139
        }
      ]
    },
    {
      "cell_type": "code",
      "metadata": {
        "colab": {
          "base_uri": "https://localhost:8080/",
          "height": 35
        },
        "id": "hkZ_Ec8Ab9zI",
        "outputId": "e52333fd-5bc4-4a65-fbb7-95336961fd7a"
      },
      "source": [
        "re.sub('[^a-z]', '1', 'abc defg') # ^: ~ 가 아닌 것"
      ],
      "execution_count": 140,
      "outputs": [
        {
          "output_type": "execute_result",
          "data": {
            "application/vnd.google.colaboratory.intrinsic+json": {
              "type": "string"
            },
            "text/plain": [
              "'abc1defg'"
            ]
          },
          "metadata": {},
          "execution_count": 140
        }
      ]
    },
    {
      "cell_type": "code",
      "metadata": {
        "id": "Wl04Oelgevpb"
      },
      "source": [
        "# [^a-z]: 영소문자가 아닌 것을 의미한다. 따라서 문자열 그대로 반환한다."
      ],
      "execution_count": 141,
      "outputs": []
    },
    {
      "cell_type": "markdown",
      "metadata": {
        "id": "MI_ET5Tle3O3"
      },
      "source": [
        "### findall\n",
        "- 컴파일한 정규 표현식을 이용해, 정규표현식(패턴)과 맞는 문자열을 모두 반환"
      ]
    },
    {
      "cell_type": "code",
      "metadata": {
        "colab": {
          "base_uri": "https://localhost:8080/"
        },
        "id": "4BYUGNiUfBVd",
        "outputId": "f749467a-8be8-4632-fd39-e8a101af307b"
      },
      "source": [
        "re.findall('[\\d]', '1ab 2cd 3ef 4g')"
      ],
      "execution_count": 142,
      "outputs": [
        {
          "output_type": "execute_result",
          "data": {
            "text/plain": [
              "['1', '2', '3', '4']"
            ]
          },
          "metadata": {},
          "execution_count": 142
        }
      ]
    },
    {
      "cell_type": "code",
      "metadata": {
        "colab": {
          "base_uri": "https://localhost:8080/"
        },
        "id": "CJRw_ZClfGFE",
        "outputId": "4fa01f8d-b9ac-430f-ec02-fc0638285576"
      },
      "source": [
        "re.findall('[\\W]', '!avcd@@#')"
      ],
      "execution_count": 143,
      "outputs": [
        {
          "output_type": "execute_result",
          "data": {
            "text/plain": [
              "['!', '@', '@', '#']"
            ]
          },
          "metadata": {},
          "execution_count": 143
        }
      ]
    },
    {
      "cell_type": "code",
      "metadata": {
        "id": "yw9vAqKZfNDc"
      },
      "source": [
        "# \\W: 문자 숫자가 아닌, 특수문자만 변환"
      ],
      "execution_count": 144,
      "outputs": []
    },
    {
      "cell_type": "markdown",
      "metadata": {
        "id": "7c97rF-Blo2m"
      },
      "source": [
        "### finditer\n",
        "- findall한 문자열(정규표현식과 맞는 모든 문자열)을 ```iterator``` 객체로 반환\n",
        "- ```iterator``` 객체를 이용하면 생성된 객체를 하나씩 자동으로 가져올 수 있어 처리가 간편함"
      ]
    },
    {
      "cell_type": "code",
      "metadata": {
        "colab": {
          "base_uri": "https://localhost:8080/"
        },
        "id": "JLbXYjrsl8-h",
        "outputId": "54a18155-6064-43a1-ffaa-e671441167e7"
      },
      "source": [
        "iter1 = re.finditer('[\\d]', '1ab 2cd 3ef 4g')\n",
        "print(iter)\n",
        "\n",
        "for i in iter1:\n",
        "    print(i)"
      ],
      "execution_count": 145,
      "outputs": [
        {
          "output_type": "stream",
          "name": "stdout",
          "text": [
            "<built-in function iter>\n",
            "<re.Match object; span=(0, 1), match='1'>\n",
            "<re.Match object; span=(4, 5), match='2'>\n",
            "<re.Match object; span=(8, 9), match='3'>\n",
            "<re.Match object; span=(12, 13), match='4'>\n"
          ]
        }
      ]
    },
    {
      "cell_type": "code",
      "metadata": {
        "colab": {
          "base_uri": "https://localhost:8080/"
        },
        "id": "uZA_8Pg5mIkM",
        "outputId": "a2332e4e-6b0a-4420-d19c-d0f2a589e82c"
      },
      "source": [
        "iter2 = re.finditer('[\\W]', '!avcd@@#')\n",
        "print(iter2)\n",
        "\n",
        "for i in iter2:\n",
        "    print(i)"
      ],
      "execution_count": 146,
      "outputs": [
        {
          "output_type": "stream",
          "name": "stdout",
          "text": [
            "<callable_iterator object at 0x7f936ddd36d0>\n",
            "<re.Match object; span=(0, 1), match='!'>\n",
            "<re.Match object; span=(5, 6), match='@'>\n",
            "<re.Match object; span=(6, 7), match='@'>\n",
            "<re.Match object; span=(7, 8), match='#'>\n"
          ]
        }
      ]
    },
    {
      "cell_type": "markdown",
      "metadata": {
        "id": "JB0aT5P0mQJk"
      },
      "source": [
        "## 토큰화(Tokenization)"
      ]
    },
    {
      "cell_type": "markdown",
      "metadata": {
        "id": "bAtshjUOmfdy"
      },
      "source": [
        "* 특수문자에 대한 처리\n",
        "\n",
        "  + 단어에 일반적으로 사용되는 알파벳, 숫자와는 다르게 특수문자는 별도의 처리가 필요            \n",
        "  + 일괄적으로 단어의 특수문자를 제거하는 방법도 있지만 특수문자가 단어에 특별한 의미를 가질 때 이를 학습에 반영시키지 못할 수도 있음\n",
        "  + 특수문자에 대한 일괄적인 제거보다는 데이터의 특성을 파악하고, 처리를 하는 것이 중요\n",
        "\n",
        "* 특정 단어에 대한 토큰 분리 방법\n",
        "\n",
        "  + 한 단어지만 토큰으로 분리할 때 판단되는 문자들로 이루어진 we're, United Kingdom 등의 단어는 어떻게 분리해야 할지 선택이 필요   \n",
        "  + we're은 한 단어이나 분리해도 단어의 의미에 별 영향을 끼치진 않지만 United Kingdom은 두 단어가 모여 특정 의미를 가리켜 분리해선 안됨\n",
        "  + 사용자가 단어의 특성을 고려해 토큰을 분리하는 것이 학습에 유리"
      ]
    },
    {
      "cell_type": "markdown",
      "metadata": {
        "id": "lfdl_gDbmkzJ"
      },
      "source": [
        "### 단어 토큰화\n",
        "- 공백 기준으로 단어를 분리하는 경우\n",
        "- 방법\n",
        "  1. ```split``` 메서드\n",
        "  2. ```nltk``` 패키지의 ```tokenize``` 모듈 (```word_tokenize()``` 메서드)"
      ]
    },
    {
      "cell_type": "markdown",
      "metadata": {
        "id": "8mVbpvnJnlp8"
      },
      "source": [
        "##### split"
      ]
    },
    {
      "cell_type": "code",
      "metadata": {
        "colab": {
          "base_uri": "https://localhost:8080/"
        },
        "id": "Ourdh8BBnG3X",
        "outputId": "24459833-ddf9-4aa0-85a3-7c8b5ab304d6"
      },
      "source": [
        "sentence = \"Time is Gold\"\n",
        "tokens = [x for x in sentence.split(' ')]\n",
        "tokens"
      ],
      "execution_count": 147,
      "outputs": [
        {
          "output_type": "execute_result",
          "data": {
            "text/plain": [
              "['Time', 'is', 'Gold']"
            ]
          },
          "metadata": {},
          "execution_count": 147
        }
      ]
    },
    {
      "cell_type": "markdown",
      "metadata": {
        "id": "Ll8z9XyynN2p"
      },
      "source": [
        "##### word_tokenize"
      ]
    },
    {
      "cell_type": "code",
      "metadata": {
        "id": "OVcKMy-vnqnH"
      },
      "source": [
        "import nltk\n",
        "nltk.download('punkt')"
      ],
      "execution_count": null,
      "outputs": []
    },
    {
      "cell_type": "code",
      "metadata": {
        "colab": {
          "base_uri": "https://localhost:8080/"
        },
        "id": "_8rsv23Rnt-P",
        "outputId": "e47f2c39-9485-494c-d96d-e27f70c6c28b"
      },
      "source": [
        "from nltk.tokenize import word_tokenize\n",
        "\n",
        "tokens = word_tokenize(sentence)\n",
        "tokens"
      ],
      "execution_count": 149,
      "outputs": [
        {
          "output_type": "execute_result",
          "data": {
            "text/plain": [
              "['Time', 'is', 'Gold']"
            ]
          },
          "metadata": {},
          "execution_count": 149
        }
      ]
    },
    {
      "cell_type": "code",
      "metadata": {
        "id": "V6P38zkin9wE"
      },
      "source": [
        "# nltk 패키지의 word_tokenize 메서드가 일반적으로 split 메서드보다 낫다."
      ],
      "execution_count": 150,
      "outputs": []
    },
    {
      "cell_type": "markdown",
      "metadata": {
        "id": "_TT8jtrPoGuT"
      },
      "source": [
        "### 문장 토큰화\n",
        "- 줄바꿈 문자(\\n)을 기준으로 분리\n",
        "- 방법\n",
        "  1. ```split``` 메서드\n",
        "  1. ```sent_tokenize``` 메서드"
      ]
    },
    {
      "cell_type": "code",
      "metadata": {
        "colab": {
          "base_uri": "https://localhost:8080/"
        },
        "id": "tRyhiZMyoJLN",
        "outputId": "bfca7da0-fb39-46fe-e774-3266d63800dc"
      },
      "source": [
        "sentences = \"The world is a beautiful book.\\nBut of little use to him who cannot read it.\"\n",
        "print(sentences)"
      ],
      "execution_count": 151,
      "outputs": [
        {
          "output_type": "stream",
          "name": "stdout",
          "text": [
            "The world is a beautiful book.\n",
            "But of little use to him who cannot read it.\n"
          ]
        }
      ]
    },
    {
      "cell_type": "markdown",
      "metadata": {
        "id": "v9YViZ_Uorp0"
      },
      "source": [
        "##### split"
      ]
    },
    {
      "cell_type": "code",
      "metadata": {
        "colab": {
          "base_uri": "https://localhost:8080/"
        },
        "id": "OjBlKuKjoWkP",
        "outputId": "85fdef53-7487-4f93-f1c1-28780e454c26"
      },
      "source": [
        "tokens = [x for x in sentences.split('\\n')]\n",
        "tokens"
      ],
      "execution_count": 152,
      "outputs": [
        {
          "output_type": "execute_result",
          "data": {
            "text/plain": [
              "['The world is a beautiful book.',\n",
              " 'But of little use to him who cannot read it.']"
            ]
          },
          "metadata": {},
          "execution_count": 152
        }
      ]
    },
    {
      "cell_type": "markdown",
      "metadata": {
        "id": "RlAjsVdpohV8"
      },
      "source": [
        "##### sent_tokenize"
      ]
    },
    {
      "cell_type": "code",
      "metadata": {
        "colab": {
          "base_uri": "https://localhost:8080/"
        },
        "id": "y0jscSlxoyAi",
        "outputId": "73097d65-04f7-4db8-e10d-3d6bcca53e9a"
      },
      "source": [
        "from nltk.tokenize import sent_tokenize\n",
        "\n",
        "tokens = sent_tokenize(sentences)\n",
        "tokens"
      ],
      "execution_count": 153,
      "outputs": [
        {
          "output_type": "execute_result",
          "data": {
            "text/plain": [
              "['The world is a beautiful book.',\n",
              " 'But of little use to him who cannot read it.']"
            ]
          },
          "metadata": {},
          "execution_count": 153
        }
      ]
    },
    {
      "cell_type": "markdown",
      "metadata": {
        "id": "vaRevc-Ao5i3"
      },
      "source": [
        "### regEX 토큰화\n",
        "- ```nltk``` 패키지 ```RegexpTokenizer```"
      ]
    },
    {
      "cell_type": "code",
      "metadata": {
        "colab": {
          "base_uri": "https://localhost:8080/"
        },
        "id": "zTQ8koIRpH0E",
        "outputId": "8f726365-b799-4ab4-b9b4-d3623b285dfd"
      },
      "source": [
        "from nltk.tokenize import RegexpTokenizer\n",
        "\n",
        "sentence = 'Where ther\\'s a will, there\\'s a way'\n",
        "\n",
        "tokenizer = RegexpTokenizer(\"[\\w]+\") # (의미) 문자와 숫자가 한개 이상인 것. (방식) re.compile 과 비슷\n",
        "tokens = tokenizer.tokenize(sentence)\n",
        "tokens"
      ],
      "execution_count": 154,
      "outputs": [
        {
          "output_type": "execute_result",
          "data": {
            "text/plain": [
              "['Where', 'ther', 's', 'a', 'will', 'there', 's', 'a', 'way']"
            ]
          },
          "metadata": {},
          "execution_count": 154
        }
      ]
    },
    {
      "cell_type": "code",
      "metadata": {
        "id": "9OUm6kCBpUz1"
      },
      "source": [
        "# 's: 특수문자로 인식된다."
      ],
      "execution_count": 155,
      "outputs": []
    },
    {
      "cell_type": "code",
      "metadata": {
        "colab": {
          "base_uri": "https://localhost:8080/"
        },
        "id": "-Mv8i3VCqB8W",
        "outputId": "2c7898b6-e33d-40cb-8d0d-a92f035a1f75"
      },
      "source": [
        "tokenizer = RegexpTokenizer(\"[\\s]+\", gaps=True) # 공백을 기준\n",
        "tokens = tokenizer.tokenize(sentence)\n",
        "tokens"
      ],
      "execution_count": 156,
      "outputs": [
        {
          "output_type": "execute_result",
          "data": {
            "text/plain": [
              "['Where', \"ther's\", 'a', 'will,', \"there's\", 'a', 'way']"
            ]
          },
          "metadata": {},
          "execution_count": 156
        }
      ]
    },
    {
      "cell_type": "markdown",
      "metadata": {
        "id": "GIqVymo-qLvI"
      },
      "source": [
        "### Keras 토큰화\n",
        "- ```text_to_word_sequence``` 메서드\n",
        "- 공백 기준으로 토큰화"
      ]
    },
    {
      "cell_type": "code",
      "metadata": {
        "colab": {
          "base_uri": "https://localhost:8080/"
        },
        "id": "ItGhhBxbqU72",
        "outputId": "35ca221f-b6ad-4a01-da74-db6a9f45fab1"
      },
      "source": [
        "from keras.preprocessing.text import text_to_word_sequence\n",
        "\n",
        "sentence = \"Where there\\'s a will, there\\'s a way\"\n",
        "text_to_word_sequence(sentence)"
      ],
      "execution_count": 157,
      "outputs": [
        {
          "output_type": "execute_result",
          "data": {
            "text/plain": [
              "['where', \"there's\", 'a', 'will', \"there's\", 'a', 'way']"
            ]
          },
          "metadata": {},
          "execution_count": 157
        }
      ]
    },
    {
      "cell_type": "markdown",
      "metadata": {
        "id": "_PB4bRL_qobb"
      },
      "source": [
        "### TextBlob 토큰화\n",
        "- ```nltk``` 패키지 기반\n",
        "- ```WordList``` 를 반환\n",
        "- 공백과 's 등의 특수문자 모두 토큰화 기준이 되어 나은 결과를 반환"
      ]
    },
    {
      "cell_type": "code",
      "metadata": {
        "colab": {
          "base_uri": "https://localhost:8080/"
        },
        "id": "RlZ1bXyAqwDo",
        "outputId": "37f60ec3-be39-4dda-b14f-ca74dee1045f"
      },
      "source": [
        "from textblob import TextBlob\n",
        "\n",
        "sentence = 'Where there\\'s a will, there\\'s a way'\n",
        "\n",
        "blob = TextBlob(sentence)\n",
        "blob.words"
      ],
      "execution_count": 158,
      "outputs": [
        {
          "output_type": "execute_result",
          "data": {
            "text/plain": [
              "WordList(['Where', 'there', \"'s\", 'a', 'will', 'there', \"'s\", 'a', 'way'])"
            ]
          },
          "metadata": {},
          "execution_count": 158
        }
      ]
    },
    {
      "cell_type": "markdown",
      "metadata": {
        "id": "jFBKbvKmq5jv"
      },
      "source": [
        "### 기타\n",
        "- ```WhiteSpaceTokenizer```: 공백 기준 토큰화\n",
        "- ```WordPunktTokenizer```: 텍스트를 알파벳 문자, 숫자, 알파벳 이외의 문자 리스트로 토큰화\n",
        "- ```MWETokenizer```: MWE는 Multi-Word Expression의 약자, republic of korea와 같이 여러 단어로 이루어진 특정 그룹을 한 개체로 취급\n",
        "- ```TwwetTokenizer```: 트위터에 사용하는 문장용 트큰화, 문장 속 감성 표현과 감정을 다룸"
      ]
    },
    {
      "cell_type": "markdown",
      "metadata": {
        "id": "vRZJ05kfrycw"
      },
      "source": [
        "## n-gram\n",
        "- n개의 어절이나 음절을 연쇄적으로 분류, 그 빈도를 분석\n",
        "- n=1인 경우, unigram\n",
        "- n=2인 경우, bigram\n",
        "- n-3인 경우, trigram"
      ]
    },
    {
      "cell_type": "code",
      "metadata": {
        "colab": {
          "base_uri": "https://localhost:8080/"
        },
        "id": "69qe8wz9shbF",
        "outputId": "892a2925-03de-4d31-a7e5-1cb6b0cdbe6a"
      },
      "source": [
        "from nltk import ngrams\n",
        "\n",
        "sentence = 'There is no royal road to learning'\n",
        "bigram = list(ngrams(sentence.split(), 2))\n",
        "bigram"
      ],
      "execution_count": 159,
      "outputs": [
        {
          "output_type": "execute_result",
          "data": {
            "text/plain": [
              "[('There', 'is'),\n",
              " ('is', 'no'),\n",
              " ('no', 'royal'),\n",
              " ('royal', 'road'),\n",
              " ('road', 'to'),\n",
              " ('to', 'learning')]"
            ]
          },
          "metadata": {},
          "execution_count": 159
        }
      ]
    },
    {
      "cell_type": "code",
      "metadata": {
        "id": "bVTctYiD9WgH"
      },
      "source": [
        "# 가끔은 단어 한개씩이 아닌 no royal, royal road 등과 같이 두 어절씩 특정하거나 새로운 의미를 갖는 경우가 있다."
      ],
      "execution_count": 160,
      "outputs": []
    },
    {
      "cell_type": "code",
      "metadata": {
        "colab": {
          "base_uri": "https://localhost:8080/"
        },
        "id": "kPOEDQcC9hb-",
        "outputId": "811ea139-4cbf-4c65-f982-715d357320df"
      },
      "source": [
        "trigram = list(ngrams(sentences.split(), 3))\n",
        "trigram"
      ],
      "execution_count": 161,
      "outputs": [
        {
          "output_type": "execute_result",
          "data": {
            "text/plain": [
              "[('The', 'world', 'is'),\n",
              " ('world', 'is', 'a'),\n",
              " ('is', 'a', 'beautiful'),\n",
              " ('a', 'beautiful', 'book.'),\n",
              " ('beautiful', 'book.', 'But'),\n",
              " ('book.', 'But', 'of'),\n",
              " ('But', 'of', 'little'),\n",
              " ('of', 'little', 'use'),\n",
              " ('little', 'use', 'to'),\n",
              " ('use', 'to', 'him'),\n",
              " ('to', 'him', 'who'),\n",
              " ('him', 'who', 'cannot'),\n",
              " ('who', 'cannot', 'read'),\n",
              " ('cannot', 'read', 'it.')]"
            ]
          },
          "metadata": {},
          "execution_count": 161
        }
      ]
    },
    {
      "cell_type": "code",
      "metadata": {
        "colab": {
          "base_uri": "https://localhost:8080/"
        },
        "id": "_WZJpeTv9mKu",
        "outputId": "17365459-3b2c-4e95-c07c-b2a1d5eeaa4b"
      },
      "source": [
        "from textblob import TextBlob\n",
        "\n",
        "blob = TextBlob(sentence)\n",
        "blob.ngrams(n=2) # bigram"
      ],
      "execution_count": 162,
      "outputs": [
        {
          "output_type": "execute_result",
          "data": {
            "text/plain": [
              "[WordList(['There', 'is']),\n",
              " WordList(['is', 'no']),\n",
              " WordList(['no', 'royal']),\n",
              " WordList(['royal', 'road']),\n",
              " WordList(['road', 'to']),\n",
              " WordList(['to', 'learning'])]"
            ]
          },
          "metadata": {},
          "execution_count": 162
        }
      ]
    },
    {
      "cell_type": "code",
      "metadata": {
        "colab": {
          "base_uri": "https://localhost:8080/"
        },
        "id": "Smn0XHhU9ygQ",
        "outputId": "775d26e4-b8ea-442d-b142-a83e9191964c"
      },
      "source": [
        "blob.ngrams(n=3) # trigram"
      ],
      "execution_count": 163,
      "outputs": [
        {
          "output_type": "execute_result",
          "data": {
            "text/plain": [
              "[WordList(['There', 'is', 'no']),\n",
              " WordList(['is', 'no', 'royal']),\n",
              " WordList(['no', 'royal', 'road']),\n",
              " WordList(['royal', 'road', 'to']),\n",
              " WordList(['road', 'to', 'learning'])]"
            ]
          },
          "metadata": {},
          "execution_count": 163
        }
      ]
    },
    {
      "cell_type": "markdown",
      "metadata": {
        "id": "GNOu42W293pt"
      },
      "source": [
        "## PoS Tagging\n",
        "- PoS(Parts of Speech) 즉, 품사를 의미\n",
        "- 문장 내에서 단어에 해당하는 품사를 태깅"
      ]
    },
    {
      "cell_type": "code",
      "metadata": {
        "id": "WfcP921t-DOc"
      },
      "source": [
        "import nltk\n",
        "\n",
        "nltk.download('punkt')"
      ],
      "execution_count": null,
      "outputs": []
    },
    {
      "cell_type": "code",
      "metadata": {
        "colab": {
          "base_uri": "https://localhost:8080/"
        },
        "id": "Nd-54heT-JZV",
        "outputId": "45bc0b7b-3f97-4a88-f698-43177af81b6e"
      },
      "source": [
        "from nltk import word_tokenize\n",
        "\n",
        "words = word_tokenize(\"Think like man of action and act like man of thought.\")\n",
        "words"
      ],
      "execution_count": 165,
      "outputs": [
        {
          "output_type": "execute_result",
          "data": {
            "text/plain": [
              "['Think',\n",
              " 'like',\n",
              " 'man',\n",
              " 'of',\n",
              " 'action',\n",
              " 'and',\n",
              " 'act',\n",
              " 'like',\n",
              " 'man',\n",
              " 'of',\n",
              " 'thought',\n",
              " '.']"
            ]
          },
          "metadata": {},
          "execution_count": 165
        }
      ]
    },
    {
      "cell_type": "code",
      "metadata": {
        "id": "8GJg2jfe-RCo"
      },
      "source": [
        "nltk.download('averaged_perceptron_tagger')\n",
        "\n",
        "nltk.pos_tag(words)"
      ],
      "execution_count": null,
      "outputs": []
    },
    {
      "cell_type": "code",
      "metadata": {
        "id": "mbYolOua-We5"
      },
      "source": [
        "# 품사별(Think, like, ..)로 TAG(VBP, IN, NN, ..)가 붙여진다."
      ],
      "execution_count": 167,
      "outputs": []
    },
    {
      "cell_type": "code",
      "metadata": {
        "colab": {
          "base_uri": "https://localhost:8080/"
        },
        "id": "Dunu27xt-oja",
        "outputId": "20c4775f-d409-489e-88d2-17e9b6dcdd76"
      },
      "source": [
        "nltk.pos_tag(word_tokenize(\"A rolling stone gathers no moss\"))"
      ],
      "execution_count": 168,
      "outputs": [
        {
          "output_type": "execute_result",
          "data": {
            "text/plain": [
              "[('A', 'DT'),\n",
              " ('rolling', 'VBG'),\n",
              " ('stone', 'NN'),\n",
              " ('gathers', 'NNS'),\n",
              " ('no', 'DT'),\n",
              " ('moss', 'NN')]"
            ]
          },
          "metadata": {},
          "execution_count": 168
        }
      ]
    },
    {
      "cell_type": "markdown",
      "metadata": {
        "id": "RBET4p6v-1H0"
      },
      "source": [
        "### PoS 태그 리스트\n",
        "- 영단어의 품사를 태그"
      ]
    },
    {
      "cell_type": "markdown",
      "metadata": {
        "id": "bqvRTGgr-uQS"
      },
      "source": [
        "| Number | Tag | Description | 설명 |\n",
        "| -- | -- | -- | -- |\n",
        "| 1 | `CC` | Coordinating conjunction |\n",
        "| 2 | `CD` | Cardinal number |\n",
        "| 3 | `DT` | Determiner | 한정사\n",
        "| 4 | `EX` | Existential there |\n",
        "| 5 | `FW` | Foreign word | 외래어 |\n",
        "| 6 | `IN` | Preposition or subordinating conjunction | 전치사 또는 종속 접속사 |\n",
        "| 7 | `JJ` | Adjective | 형용사 |\n",
        "| 8 | `JJR` | Adjective, comparative | 헝용사, 비교급 |\n",
        "| 9 | `JJS` | Adjective, superlative | 형용사, 최상급 |\n",
        "| 10 | `LS` | List item marker |\n",
        "| 11 | `MD` | Modal |\n",
        "| 12 | `NN` | Noun, singular or mass | 명사, 단수형 |\n",
        "| 13 | `NNS` | Noun, plural | 명사, 복수형 |\n",
        "| 14 | `NNP` | Proper noun, singular | 고유명사, 단수형 |\n",
        "| 15 | `NNPS` | Proper noun, plural | 고유명사, 복수형 |\n",
        "| 16 | `PDT` | Predeterminer | 전치한정사 |\n",
        "| 17 | `POS` | Possessive ending | 소유형용사 |\n",
        "| 18 | `PRP` | Personal pronoun | 인칭 대명사 |\n",
        "| 19 | `PRP$` | Possessive pronoun | 소유 대명사 |\n",
        "| 20 | `RB` | Adverb | 부사 |\n",
        "| 21 | `RBR` | Adverb, comparative | 부사, 비교급 |\n",
        "| 22 | `RBS` | Adverb, superlative | 부사, 최상급 |\n",
        "| 23 | `RP` | Particle |\n",
        "| 24 | `SYM` | Symbol | 기호\n",
        "| 25 | `TO` | to |\n",
        "| 26 | `UH` | Interjection | 감탄사 |\n",
        "| 27 | `VB` | Verb, base form | 동사, 원형 |\n",
        "| 28 | `VBD` | Verb, past tense | 동사, 과거형 |\n",
        "| 29 | `VBG` | Verb, gerund or present participle | 동사, 현재분사 |\n",
        "| 30 | `VBN` | Verb, past participle | 동사, 과거분사 |\n",
        "| 31 | `VBP` | Verb, non-3rd person singular present | 동사, 비3인칭 단수 |\n",
        "| 32 | `VBZ` | Verb, 3rd person singular present | 동사, 3인칭 단수 |\n",
        "| 33 | `WDT` | Wh-determiner |\n",
        "| 34 | `WP` | Wh-pronoun |\n",
        "| 35 | `WP$` | Possessive wh-pronoun |\n",
        "| 36 | `WRB` | Wh-adverb |\n"
      ]
    },
    {
      "cell_type": "markdown",
      "metadata": {
        "id": "bF5rh6Ai-zct"
      },
      "source": [
        "## 불용어 제거\n",
        "- 영어의 조사나 한국어의 조사는 분석에 필요하지 않음\n",
        "- 길이가 짧은 단어나 등장 빈도수가 적은 단어 역시 분석에 큰 영향을 주지 않음\n",
        "- 불용어 사전을 만들어 해당 단어들을 제거"
      ]
    },
    {
      "cell_type": "code",
      "metadata": {
        "colab": {
          "base_uri": "https://localhost:8080/"
        },
        "id": "12cZjXT4_XOG",
        "outputId": "5660727e-0f11-44b8-cbff-9709a0dabcc2"
      },
      "source": [
        "stop_words = \"on in the\"\n",
        "stop_words = stop_words.split(' ')\n",
        "stop_words # list"
      ],
      "execution_count": 169,
      "outputs": [
        {
          "output_type": "execute_result",
          "data": {
            "text/plain": [
              "['on', 'in', 'the']"
            ]
          },
          "metadata": {},
          "execution_count": 169
        }
      ]
    },
    {
      "cell_type": "code",
      "metadata": {
        "colab": {
          "base_uri": "https://localhost:8080/"
        },
        "id": "UW6nYI9d_qBs",
        "outputId": "d2010cf7-d787-46e8-f49f-24ecd6baef99"
      },
      "source": [
        "sentence = \"singer on the stage\"\n",
        "sentence = sentence.split(' ')\n",
        "\n",
        "nouns = []\n",
        "for noun in sentence:\n",
        "    # 불용어를 예외처리하듯\n",
        "    if noun not in stop_words:\n",
        "        nouns.append(noun)\n",
        "\n",
        "nouns"
      ],
      "execution_count": 170,
      "outputs": [
        {
          "output_type": "execute_result",
          "data": {
            "text/plain": [
              "['singer', 'stage']"
            ]
          },
          "metadata": {},
          "execution_count": 170
        }
      ]
    },
    {
      "cell_type": "markdown",
      "metadata": {
        "id": "pIXqazEo_7Yz"
      },
      "source": [
        "### ```nltk``` 패키지의 불용어 리스트"
      ]
    },
    {
      "cell_type": "code",
      "metadata": {
        "colab": {
          "base_uri": "https://localhost:8080/"
        },
        "id": "cAHStGOnAHUq",
        "outputId": "c6140373-d0ff-44d2-b6ff-7d3001a781a6"
      },
      "source": [
        "import nltk\n",
        "nltk.download('stopwords')\n",
        "\n",
        "from nltk import word_tokenize\n",
        "from nltk.corpus import stopwords"
      ],
      "execution_count": 171,
      "outputs": [
        {
          "output_type": "stream",
          "name": "stdout",
          "text": [
            "[nltk_data] Downloading package stopwords to /root/nltk_data...\n",
            "[nltk_data]   Package stopwords is already up-to-date!\n"
          ]
        }
      ]
    },
    {
      "cell_type": "code",
      "metadata": {
        "colab": {
          "base_uri": "https://localhost:8080/"
        },
        "id": "4l9QuO3pAslu",
        "outputId": "c67fe750-c82e-4856-c23a-ae109b2cafca"
      },
      "source": [
        "stop_words = stopwords.words('english') # 영어 불용어 가져오기\n",
        "stop_words[:5]"
      ],
      "execution_count": 172,
      "outputs": [
        {
          "output_type": "execute_result",
          "data": {
            "text/plain": [
              "['i', 'me', 'my', 'myself', 'we']"
            ]
          },
          "metadata": {},
          "execution_count": 172
        }
      ]
    },
    {
      "cell_type": "code",
      "metadata": {
        "colab": {
          "base_uri": "https://localhost:8080/"
        },
        "id": "Z-LxXHWyAzTo",
        "outputId": "9097bbd7-255b-4330-d1bf-9d1834f0484c"
      },
      "source": [
        "s = \"If you do not walk today, you will have to run tomorrow.\"\n",
        "words = word_tokenize(s)\n",
        "words"
      ],
      "execution_count": 173,
      "outputs": [
        {
          "output_type": "execute_result",
          "data": {
            "text/plain": [
              "['If',\n",
              " 'you',\n",
              " 'do',\n",
              " 'not',\n",
              " 'walk',\n",
              " 'today',\n",
              " ',',\n",
              " 'you',\n",
              " 'will',\n",
              " 'have',\n",
              " 'to',\n",
              " 'run',\n",
              " 'tomorrow',\n",
              " '.']"
            ]
          },
          "metadata": {},
          "execution_count": 173
        }
      ]
    },
    {
      "cell_type": "code",
      "metadata": {
        "colab": {
          "base_uri": "https://localhost:8080/"
        },
        "id": "6-tOEVOiA_-1",
        "outputId": "f9426b57-8704-4842-b24f-d46b1745f85b"
      },
      "source": [
        "no_stop_words = []\n",
        "for w in words:\n",
        "    if w not in stop_words:\n",
        "        no_stop_words.append(w)\n",
        "\n",
        "no_stop_words"
      ],
      "execution_count": 174,
      "outputs": [
        {
          "output_type": "execute_result",
          "data": {
            "text/plain": [
              "['If', 'walk', 'today', ',', 'run', 'tomorrow', '.']"
            ]
          },
          "metadata": {},
          "execution_count": 174
        }
      ]
    },
    {
      "cell_type": "markdown",
      "metadata": {
        "id": "74eSir7uBNR2"
      },
      "source": [
        "## 철자 교정"
      ]
    },
    {
      "cell_type": "markdown",
      "metadata": {
        "id": "Km6D_wlBBR-i"
      },
      "source": [
        "- 오탈자가 존재하는 경우 처리가 필요함\n",
        "- 철자 교정 알고리즘은 이미 개발되어 활용 (예시) 워드 프로세서"
      ]
    },
    {
      "cell_type": "markdown",
      "metadata": {
        "id": "h7MEGy-_BZln"
      },
      "source": [
        "##### autocorrect"
      ]
    },
    {
      "cell_type": "code",
      "metadata": {
        "id": "_dosRj8GBidq"
      },
      "source": [
        "!pip install autocorrect"
      ],
      "execution_count": null,
      "outputs": []
    },
    {
      "cell_type": "code",
      "metadata": {
        "id": "KWeCl3e3BlB2"
      },
      "source": [
        "from autocorrect import Speller"
      ],
      "execution_count": 176,
      "outputs": []
    },
    {
      "cell_type": "code",
      "metadata": {
        "colab": {
          "base_uri": "https://localhost:8080/",
          "height": 35
        },
        "id": "h5bp3CcSBn_6",
        "outputId": "317e65c7-4566-4003-85cf-ab9d2e01b2cd"
      },
      "source": [
        "spell = Speller('en') # 영어 철자 교정\n",
        "\n",
        "spell('peoplle')"
      ],
      "execution_count": 177,
      "outputs": [
        {
          "output_type": "execute_result",
          "data": {
            "application/vnd.google.colaboratory.intrinsic+json": {
              "type": "string"
            },
            "text/plain": [
              "'people'"
            ]
          },
          "metadata": {},
          "execution_count": 177
        }
      ]
    },
    {
      "cell_type": "code",
      "metadata": {
        "colab": {
          "base_uri": "https://localhost:8080/",
          "height": 35
        },
        "id": "LISinqe9B0as",
        "outputId": "62325261-1cdb-46fc-e742-063a41458c44"
      },
      "source": [
        "spell('oragne')"
      ],
      "execution_count": 178,
      "outputs": [
        {
          "output_type": "execute_result",
          "data": {
            "application/vnd.google.colaboratory.intrinsic+json": {
              "type": "string"
            },
            "text/plain": [
              "'orange'"
            ]
          },
          "metadata": {},
          "execution_count": 178
        }
      ]
    },
    {
      "cell_type": "code",
      "metadata": {
        "colab": {
          "base_uri": "https://localhost:8080/",
          "height": 35
        },
        "id": "jMktATmEB2bo",
        "outputId": "ed4cee07-62dc-4d82-8862-50cc8a21dd26"
      },
      "source": [
        "s = word_tokenize(\"Earlly biird catchess the womm.\")\n",
        "ss = ' '.join([spell(s) for s in s])\n",
        "ss[:-2]"
      ],
      "execution_count": 179,
      "outputs": [
        {
          "output_type": "execute_result",
          "data": {
            "application/vnd.google.colaboratory.intrinsic+json": {
              "type": "string"
            },
            "text/plain": [
              "'Early bird catches the worm'"
            ]
          },
          "metadata": {},
          "execution_count": 179
        }
      ]
    },
    {
      "cell_type": "markdown",
      "metadata": {
        "id": "xVf19uoNCKXE"
      },
      "source": [
        "## 언어의 단수화/복수화"
      ]
    },
    {
      "cell_type": "markdown",
      "metadata": {
        "id": "TomR-KWdC081"
      },
      "source": [
        "##### tb.words.singularize"
      ]
    },
    {
      "cell_type": "code",
      "metadata": {
        "colab": {
          "base_uri": "https://localhost:8080/"
        },
        "id": "9QZZoT1PCVyD",
        "outputId": "8b8218b2-11aa-412b-a587-395e24d24cb0"
      },
      "source": [
        "from textblob import TextBlob\n",
        "\n",
        "words = 'apples bananas oranges'\n",
        "tb = TextBlob(words)\n",
        "\n",
        "print(tb.words)\n",
        "print(tb.words.singularize())"
      ],
      "execution_count": 180,
      "outputs": [
        {
          "output_type": "stream",
          "name": "stdout",
          "text": [
            "['apples', 'bananas', 'oranges']\n",
            "['apple', 'banana', 'orange']\n"
          ]
        }
      ]
    },
    {
      "cell_type": "markdown",
      "metadata": {
        "id": "tqbrsezjC6z4"
      },
      "source": [
        "##### tb.words.pluralize"
      ]
    },
    {
      "cell_type": "code",
      "metadata": {
        "colab": {
          "base_uri": "https://localhost:8080/"
        },
        "id": "g9B40P68CjtC",
        "outputId": "50b2a89c-05c2-43c9-81df-41169590e514"
      },
      "source": [
        "words = 'car train airplane'\n",
        "tb = TextBlob(words)\n",
        "\n",
        "print(tb.words)\n",
        "print(tb.words.pluralize())"
      ],
      "execution_count": 181,
      "outputs": [
        {
          "output_type": "stream",
          "name": "stdout",
          "text": [
            "['car', 'train', 'airplane']\n",
            "['cars', 'trains', 'airplanes']\n"
          ]
        }
      ]
    },
    {
      "cell_type": "code",
      "metadata": {
        "id": "Kh3XM7a5CvXZ"
      },
      "source": [
        "# str.upper()/lower() 과 비슷한 방식으로 작동한다."
      ],
      "execution_count": 182,
      "outputs": []
    },
    {
      "cell_type": "markdown",
      "metadata": {
        "id": "CquHkxUbC-FC"
      },
      "source": [
        "### 어간 추출\n",
        "- ```nltk``` 패키지 ```stem.Porterstemmer()``` 메서드"
      ]
    },
    {
      "cell_type": "code",
      "metadata": {
        "id": "GmDHrQ7cDAfa"
      },
      "source": [
        "import nltk\n",
        "\n",
        "stemmer = nltk.stem.PorterStemmer()"
      ],
      "execution_count": 183,
      "outputs": []
    },
    {
      "cell_type": "code",
      "metadata": {
        "colab": {
          "base_uri": "https://localhost:8080/",
          "height": 35
        },
        "id": "sUfgR9AYDNAX",
        "outputId": "b0b8015b-8223-4606-fbe2-21c757491991"
      },
      "source": [
        "stemmer.stem('application') # Stemming"
      ],
      "execution_count": 184,
      "outputs": [
        {
          "output_type": "execute_result",
          "data": {
            "application/vnd.google.colaboratory.intrinsic+json": {
              "type": "string"
            },
            "text/plain": [
              "'applic'"
            ]
          },
          "metadata": {},
          "execution_count": 184
        }
      ]
    },
    {
      "cell_type": "code",
      "metadata": {
        "colab": {
          "base_uri": "https://localhost:8080/",
          "height": 35
        },
        "id": "xQe8peZ8DP6U",
        "outputId": "8f6ed9cd-17b1-4b69-bbbe-ee52b8242d14"
      },
      "source": [
        "stemmer.stem('beginning')"
      ],
      "execution_count": 185,
      "outputs": [
        {
          "output_type": "execute_result",
          "data": {
            "application/vnd.google.colaboratory.intrinsic+json": {
              "type": "string"
            },
            "text/plain": [
              "'begin'"
            ]
          },
          "metadata": {},
          "execution_count": 185
        }
      ]
    },
    {
      "cell_type": "code",
      "metadata": {
        "colab": {
          "base_uri": "https://localhost:8080/",
          "height": 35
        },
        "id": "tgKwN44SLDQu",
        "outputId": "672a5df1-b721-49ce-838e-32c1571731b6"
      },
      "source": [
        "stemmer.stem('catches')"
      ],
      "execution_count": 186,
      "outputs": [
        {
          "output_type": "execute_result",
          "data": {
            "application/vnd.google.colaboratory.intrinsic+json": {
              "type": "string"
            },
            "text/plain": [
              "'catch'"
            ]
          },
          "metadata": {},
          "execution_count": 186
        }
      ]
    },
    {
      "cell_type": "code",
      "metadata": {
        "colab": {
          "base_uri": "https://localhost:8080/",
          "height": 35
        },
        "id": "kLWOqqs0LP4M",
        "outputId": "d7995fcf-be3f-480e-9af8-4b3bf8571b3d"
      },
      "source": [
        "stemmer.stem('education')"
      ],
      "execution_count": 187,
      "outputs": [
        {
          "output_type": "execute_result",
          "data": {
            "application/vnd.google.colaboratory.intrinsic+json": {
              "type": "string"
            },
            "text/plain": [
              "'educ'"
            ]
          },
          "metadata": {},
          "execution_count": 187
        }
      ]
    },
    {
      "cell_type": "markdown",
      "metadata": {
        "id": "dclzgKEZLTFR"
      },
      "source": [
        "## 표제어 추출 (Lemmatization)"
      ]
    },
    {
      "cell_type": "code",
      "metadata": {
        "id": "WUUwRrp8LWWV"
      },
      "source": [
        "import nltk\n",
        "nltk.download('wordnet')\n",
        "from nltk.stem.wordnet import WordNetLemmatizer"
      ],
      "execution_count": null,
      "outputs": []
    },
    {
      "cell_type": "code",
      "metadata": {
        "colab": {
          "base_uri": "https://localhost:8080/",
          "height": 35
        },
        "id": "ykn7cqThLc-6",
        "outputId": "e6e123f7-d4eb-40eb-a2bf-f9292ee4d2b4"
      },
      "source": [
        "lemmatizer = WordNetLemmatizer()\n",
        "lemmatizer.lemmatize('application')"
      ],
      "execution_count": 189,
      "outputs": [
        {
          "output_type": "execute_result",
          "data": {
            "application/vnd.google.colaboratory.intrinsic+json": {
              "type": "string"
            },
            "text/plain": [
              "'application'"
            ]
          },
          "metadata": {},
          "execution_count": 189
        }
      ]
    },
    {
      "cell_type": "code",
      "metadata": {
        "colab": {
          "base_uri": "https://localhost:8080/",
          "height": 35
        },
        "id": "4RBrSX4-Lgew",
        "outputId": "f5e22e4c-3e7f-486d-8f27-4d2209106997"
      },
      "source": [
        "lemmatizer.lemmatize('beginning')"
      ],
      "execution_count": 190,
      "outputs": [
        {
          "output_type": "execute_result",
          "data": {
            "application/vnd.google.colaboratory.intrinsic+json": {
              "type": "string"
            },
            "text/plain": [
              "'beginning'"
            ]
          },
          "metadata": {},
          "execution_count": 190
        }
      ]
    },
    {
      "cell_type": "code",
      "metadata": {
        "colab": {
          "base_uri": "https://localhost:8080/",
          "height": 35
        },
        "id": "IWkeE6oRLleg",
        "outputId": "29cfaa77-c8d8-454a-b27b-a2b16a7686c7"
      },
      "source": [
        "lemmatizer.lemmatize('catches') # catch"
      ],
      "execution_count": 191,
      "outputs": [
        {
          "output_type": "execute_result",
          "data": {
            "application/vnd.google.colaboratory.intrinsic+json": {
              "type": "string"
            },
            "text/plain": [
              "'catch'"
            ]
          },
          "metadata": {},
          "execution_count": 191
        }
      ]
    },
    {
      "cell_type": "code",
      "metadata": {
        "colab": {
          "base_uri": "https://localhost:8080/",
          "height": 35
        },
        "id": "FcX6Oc7KLpSE",
        "outputId": "af0590f0-168b-44a6-8c01-88bcde64b13c"
      },
      "source": [
        "lemmatizer.lemmatize('education')"
      ],
      "execution_count": 192,
      "outputs": [
        {
          "output_type": "execute_result",
          "data": {
            "application/vnd.google.colaboratory.intrinsic+json": {
              "type": "string"
            },
            "text/plain": [
              "'education'"
            ]
          },
          "metadata": {},
          "execution_count": 192
        }
      ]
    },
    {
      "cell_type": "markdown",
      "metadata": {
        "id": "9VGj_IUaLuge"
      },
      "source": [
        "## 개체명 인식 (NEI, Named Entity Recognition)"
      ]
    },
    {
      "cell_type": "code",
      "metadata": {
        "id": "gEeZAkLzL1Cu"
      },
      "source": [
        "import nltk\n",
        "from nltk import word_tokenize\n",
        "nltk.download('maxent_ne_chunker')\n",
        "nltk.download('words')"
      ],
      "execution_count": null,
      "outputs": []
    },
    {
      "cell_type": "code",
      "metadata": {
        "colab": {
          "base_uri": "https://localhost:8080/",
          "height": 35
        },
        "id": "QsXtF1tmMA_y",
        "outputId": "a691f341-fe7f-4c86-dac9-fb643de41494"
      },
      "source": [
        "s = \"Rome was not built in a day\"\n",
        "s"
      ],
      "execution_count": 194,
      "outputs": [
        {
          "output_type": "execute_result",
          "data": {
            "application/vnd.google.colaboratory.intrinsic+json": {
              "type": "string"
            },
            "text/plain": [
              "'Rome was not built in a day'"
            ]
          },
          "metadata": {},
          "execution_count": 194
        }
      ]
    },
    {
      "cell_type": "code",
      "metadata": {
        "colab": {
          "base_uri": "https://localhost:8080/"
        },
        "id": "DOXW49LoMGAp",
        "outputId": "82bf2fe2-9ede-4ac4-bb1b-df8639a4a35b"
      },
      "source": [
        "tags = nltk.pos_tag(word_tokenize(s))\n",
        "tags"
      ],
      "execution_count": 195,
      "outputs": [
        {
          "output_type": "execute_result",
          "data": {
            "text/plain": [
              "[('Rome', 'NNP'),\n",
              " ('was', 'VBD'),\n",
              " ('not', 'RB'),\n",
              " ('built', 'VBN'),\n",
              " ('in', 'IN'),\n",
              " ('a', 'DT'),\n",
              " ('day', 'NN')]"
            ]
          },
          "metadata": {},
          "execution_count": 195
        }
      ]
    },
    {
      "cell_type": "code",
      "metadata": {
        "colab": {
          "base_uri": "https://localhost:8080/"
        },
        "id": "srMUtOEWMJW-",
        "outputId": "0a85f4e4-879b-4ade-c354-7db5c349ed0e"
      },
      "source": [
        "entities = nltk.ne_chunk(tags, binary=True)\n",
        "print(entities) # entities 만 하면 Error"
      ],
      "execution_count": 196,
      "outputs": [
        {
          "output_type": "stream",
          "name": "stdout",
          "text": [
            "(S (NE Rome/NNP) was/VBD not/RB built/VBN in/IN a/DT day/NN)\n"
          ]
        }
      ]
    },
    {
      "cell_type": "code",
      "metadata": {
        "id": "EUPgQsHLMPqH"
      },
      "source": [
        "# NE Rome: Rome은 객체명으로 인식한다. 이처럼 따로 태깅이 붙게된다."
      ],
      "execution_count": 197,
      "outputs": []
    },
    {
      "cell_type": "markdown",
      "metadata": {
        "id": "jRtzXFHdMvwG"
      },
      "source": [
        "## 단어 중의성 (Lexical Ambiguity)"
      ]
    },
    {
      "cell_type": "code",
      "metadata": {
        "id": "9u5qm4QwM0Cz"
      },
      "source": [
        "import nltk\n",
        "from nltk.wsd import lesk"
      ],
      "execution_count": 198,
      "outputs": []
    },
    {
      "cell_type": "code",
      "metadata": {
        "colab": {
          "base_uri": "https://localhost:8080/"
        },
        "id": "MmE8s4NKNauS",
        "outputId": "d3342496-e980-46be-9aaa-7e979bdb2c16"
      },
      "source": [
        "s = \"I saw bats.\"\n",
        "\n",
        "print(word_tokenize(s))\n",
        "print(lesk(word_tokenize(s), 'saw'))\n",
        "print(lesk(word_tokenize(s), 'bats'))"
      ],
      "execution_count": 199,
      "outputs": [
        {
          "output_type": "stream",
          "name": "stdout",
          "text": [
            "['I', 'saw', 'bats', '.']\n",
            "Synset('saw.v.01')\n",
            "Synset('squash_racket.n.01')\n"
          ]
        }
      ]
    },
    {
      "cell_type": "code",
      "metadata": {
        "id": "U41OKutiNx5U"
      },
      "source": [
        "# saw를 동사(v)로 보고, bats는 racket와 의미를 같이하는 명사(n)로 해석하라."
      ],
      "execution_count": 200,
      "outputs": []
    },
    {
      "cell_type": "markdown",
      "metadata": {
        "id": "GC9DpXQpN539"
      },
      "source": [
        "# 한국어"
      ]
    },
    {
      "cell_type": "markdown",
      "metadata": {
        "id": "7XtSpE2HN_y8"
      },
      "source": [
        "##### match"
      ]
    },
    {
      "cell_type": "code",
      "metadata": {
        "colab": {
          "base_uri": "https://localhost:8080/"
        },
        "id": "BMnF9szoOQSq",
        "outputId": "4f61c7fd-76f2-432c-acbd-2b23a7665ead"
      },
      "source": [
        "import re\n",
        "\n",
        "check = '[ㄱ-ㅎ]+' # 모음을 확인하는 패턴\n",
        "\n",
        "print(re.match(check, 'ㅎ 안녕하세요.')) # 처음부터 모음이 나와 패턴 추출\n",
        "print(re.match(check, '안녕하세요. ㅎ')) # 처음부터 모음이 자음과 결합된 형태여서 패턴을 찾지 못하였음."
      ],
      "execution_count": 201,
      "outputs": [
        {
          "output_type": "stream",
          "name": "stdout",
          "text": [
            "<re.Match object; span=(0, 1), match='ㅎ'>\n",
            "None\n"
          ]
        }
      ]
    },
    {
      "cell_type": "markdown",
      "metadata": {
        "id": "6LVy3kNmOxDK"
      },
      "source": [
        "##### search\n",
        "- match와 다르게, 문자열 전체를 검사"
      ]
    },
    {
      "cell_type": "code",
      "metadata": {
        "colab": {
          "base_uri": "https://localhost:8080/"
        },
        "id": "CWs5ZmoHPt3U",
        "outputId": "78abfc62-697e-4cb3-efe9-a32c4b0608f8"
      },
      "source": [
        "check = '[ㄱ-ㅎ|ㅏ-ㅣ]+'\n",
        "\n",
        "# search\n",
        "print(re.search(check, 'ㄱㅏ 안녕하세요'))\n",
        "print(re.search(check, '안 ㄱㅏ'))\n",
        "# match\n",
        "print(re.match(check, 'ㄱㅏ 안녕하세요'))\n",
        "print(re.match(check, '안 ㄱㅏ'))"
      ],
      "execution_count": 202,
      "outputs": [
        {
          "output_type": "stream",
          "name": "stdout",
          "text": [
            "<re.Match object; span=(0, 2), match='ㄱㅏ'>\n",
            "<re.Match object; span=(2, 4), match='ㄱㅏ'>\n",
            "<re.Match object; span=(0, 2), match='ㄱㅏ'>\n",
            "None\n"
          ]
        }
      ]
    },
    {
      "cell_type": "code",
      "metadata": {
        "id": "5tsWqH8uQDwu"
      },
      "source": [
        "# match는 첫부분이 중요, search는 문자열 전체 내용을 확인"
      ],
      "execution_count": 203,
      "outputs": []
    },
    {
      "cell_type": "markdown",
      "metadata": {
        "id": "6G8OzWIxQQKz"
      },
      "source": [
        "##### sub"
      ]
    },
    {
      "cell_type": "code",
      "metadata": {
        "colab": {
          "base_uri": "https://localhost:8080/",
          "height": 35
        },
        "id": "cJwNb9mgQST5",
        "outputId": "4c503c51-073e-4eaf-ad39-388d695c7bb9"
      },
      "source": [
        "re.sub('[가-힣]', '1', '가나다라마바사')"
      ],
      "execution_count": 204,
      "outputs": [
        {
          "output_type": "execute_result",
          "data": {
            "application/vnd.google.colaboratory.intrinsic+json": {
              "type": "string"
            },
            "text/plain": [
              "'1111111'"
            ]
          },
          "metadata": {},
          "execution_count": 204
        }
      ]
    },
    {
      "cell_type": "code",
      "metadata": {
        "colab": {
          "base_uri": "https://localhost:8080/",
          "height": 35
        },
        "id": "RyFiMNS8QW38",
        "outputId": "f96b4fc3-f9f7-4cbb-f1db-6f8c723293f2"
      },
      "source": [
        "re.sub('[^가-힣]', '1', '가나다라마바사')"
      ],
      "execution_count": 205,
      "outputs": [
        {
          "output_type": "execute_result",
          "data": {
            "application/vnd.google.colaboratory.intrinsic+json": {
              "type": "string"
            },
            "text/plain": [
              "'가나다라마바사'"
            ]
          },
          "metadata": {},
          "execution_count": 205
        }
      ]
    },
    {
      "cell_type": "markdown",
      "metadata": {
        "id": "McpGlg-lQYxx"
      },
      "source": [
        "### 토큰화"
      ]
    },
    {
      "cell_type": "markdown",
      "metadata": {
        "id": "H3KAZuSoQfzB"
      },
      "source": [
        "- 한국어는 띄어쓰기를 준수하지 않아도 의미가 전달되는 경우가 많아 띄어쓰기가 지켜지지 않는 경우가 존재\n",
        "- 하지만 띄어쓰기가 지켜지지 않는 경우, 정상적인 토큰 분리가 이루어지지 않음.\n",
        "- 따라서 한국어 토큰화는 굉장히 어려운 편에 속함.\n",
        "- 한국어에서는 또, 형태소에 대한 개념을 추가적으로 고려해야한다. (예시) 그는, 그가 (같은 의미지만 컴퓨터에서는 다르게 처리)"
      ]
    },
    {
      "cell_type": "markdown",
      "metadata": {
        "id": "Tg6pGe9_Qxtx"
      },
      "source": [
        "## Konlpy & MeCab"
      ]
    },
    {
      "cell_type": "markdown",
      "metadata": {
        "id": "YTqKDvy1Q63Z"
      },
      "source": [
        "- 강력 추천 두 패키지"
      ]
    },
    {
      "cell_type": "code",
      "metadata": {
        "id": "-LQSS1ltQ8Ry"
      },
      "source": [
        "!set -x \\\n",
        "&& pip install konlpy \\\n",
        "&& curl -s https://raw.githubusercontent.com/konlpy/konlpy/master/scripts/mecab.sh | bash -x"
      ],
      "execution_count": null,
      "outputs": []
    },
    {
      "cell_type": "markdown",
      "metadata": {
        "id": "egjnxkZ3RLfa"
      },
      "source": [
        "### 단어 토큰화\n",
        "- ```konlpy``` 와 ```mecab``` 라이브러리\n",
        "- 이유: 형태소의 개념이 추가되어야하기 때문"
      ]
    },
    {
      "cell_type": "code",
      "metadata": {
        "id": "EdWP55hFgpPz"
      },
      "source": [
        "from konlpy.tag import Mecab"
      ],
      "execution_count": 207,
      "outputs": []
    },
    {
      "cell_type": "code",
      "metadata": {
        "colab": {
          "base_uri": "https://localhost:8080/"
        },
        "id": "5p0YNomKhIXp",
        "outputId": "51fc8036-9d6c-48d8-9003-2b8e134f6973"
      },
      "source": [
        "tagger = Mecab()\n",
        "\n",
        "sentence = \"언제나 현재에 집중할 수 있다면 행복할 것이다.\"\n",
        "tagger.pos(sentence)"
      ],
      "execution_count": 208,
      "outputs": [
        {
          "output_type": "execute_result",
          "data": {
            "text/plain": [
              "[('언제나', 'MAG'),\n",
              " ('현재', 'NNG'),\n",
              " ('에', 'JKB'),\n",
              " ('집중', 'NNG'),\n",
              " ('할', 'XSV+ETM'),\n",
              " ('수', 'NNB'),\n",
              " ('있', 'VV'),\n",
              " ('다면', 'EC'),\n",
              " ('행복', 'NNG'),\n",
              " ('할', 'XSV+ETM'),\n",
              " ('것', 'NNB'),\n",
              " ('이', 'VCP'),\n",
              " ('다', 'EF'),\n",
              " ('.', 'SF')]"
            ]
          },
          "metadata": {},
          "execution_count": 208
        }
      ]
    },
    {
      "cell_type": "markdown",
      "metadata": {
        "id": "IEWfMycJhUTj"
      },
      "source": [
        "##### tagger.morphs\n",
        "- 토큰화만 실행하는 경우"
      ]
    },
    {
      "cell_type": "code",
      "metadata": {
        "colab": {
          "base_uri": "https://localhost:8080/"
        },
        "id": "bziLMOn7htsJ",
        "outputId": "8f41f7bb-8ad0-46df-8626-ce8360ec4629"
      },
      "source": [
        "tagger.morphs(sentence)"
      ],
      "execution_count": 209,
      "outputs": [
        {
          "output_type": "execute_result",
          "data": {
            "text/plain": [
              "['언제나', '현재', '에', '집중', '할', '수', '있', '다면', '행복', '할', '것', '이', '다', '.']"
            ]
          },
          "metadata": {},
          "execution_count": 209
        }
      ]
    },
    {
      "cell_type": "markdown",
      "metadata": {
        "id": "m8KdwtsBhzMb"
      },
      "source": [
        "##### tagger.nouns\n",
        "- 형태소만 사용하고 싶은 경우\n",
        "- 조사, 접속사 등의 불용어는 제거"
      ]
    },
    {
      "cell_type": "code",
      "metadata": {
        "colab": {
          "base_uri": "https://localhost:8080/"
        },
        "id": "Y23fVyv5h7b2",
        "outputId": "47d48548-5b01-4d5e-f5c5-6553200fbb0c"
      },
      "source": [
        "tagger.nouns(sentence)"
      ],
      "execution_count": 210,
      "outputs": [
        {
          "output_type": "execute_result",
          "data": {
            "text/plain": [
              "['현재', '집중', '수', '행복', '것']"
            ]
          },
          "metadata": {},
          "execution_count": 210
        }
      ]
    },
    {
      "cell_type": "markdown",
      "metadata": {
        "id": "zaXayf3Jh91X"
      },
      "source": [
        "### 문장 토큰화\n",
        "- ```kss``` 라이브러리 (korean sentence splitter)"
      ]
    },
    {
      "cell_type": "code",
      "metadata": {
        "id": "eW-7M8dciFz5"
      },
      "source": [
        "!pip install kss"
      ],
      "execution_count": null,
      "outputs": []
    },
    {
      "cell_type": "markdown",
      "metadata": {
        "id": "H1shu0RyiGja"
      },
      "source": [
        "- 라이브러리를 이용해도 한국어에서는 전치표현이 존재해 제대로 토큰화가 안된다 (특히, SNS의 '진짜? 내일 뭐하지.')\n",
        "- 사용자가 따로 처리해줄 필요가 있음."
      ]
    },
    {
      "cell_type": "code",
      "metadata": {
        "colab": {
          "base_uri": "https://localhost:8080/"
        },
        "id": "NG3SKfiviWht",
        "outputId": "f4275f5f-a249-46ef-b43e-64f661331635"
      },
      "source": [
        "import kss"
      ],
      "execution_count": 213,
      "outputs": [
        {
          "output_type": "stream",
          "name": "stderr",
          "text": [
            "[Korean Sentence Splitter]: Initializing Kss...\n"
          ]
        }
      ]
    },
    {
      "cell_type": "code",
      "metadata": {
        "colab": {
          "base_uri": "https://localhost:8080/"
        },
        "id": "mcrxn3wKiYAP",
        "outputId": "5aee4fd8-371d-42e5-e6ca-06bac3695740"
      },
      "source": [
        "text = '진짜? 내일 뭐하지. 이렇게 애매한 문장도? 밥은 먹었어? 나는...'\n",
        "kss.split_sentences(text)"
      ],
      "execution_count": 214,
      "outputs": [
        {
          "output_type": "execute_result",
          "data": {
            "text/plain": [
              "['진짜? 내일 뭐하지.', '이렇게 애매한 문장도? 밥은 먹었어?', '나는...']"
            ]
          },
          "metadata": {},
          "execution_count": 214
        }
      ]
    },
    {
      "cell_type": "code",
      "metadata": {
        "id": "yDJjVylIikgI"
      },
      "source": [
        "# 결국 수동으로 해야하는 경우가 있다."
      ],
      "execution_count": null,
      "outputs": []
    },
    {
      "cell_type": "markdown",
      "metadata": {
        "id": "ryIbTVshifSY"
      },
      "source": [
        "### 정규식 토큰화"
      ]
    },
    {
      "cell_type": "code",
      "metadata": {
        "colab": {
          "base_uri": "https://localhost:8080/"
        },
        "id": "aHX6njYkijV7",
        "outputId": "b52c22f0-c2b3-4df3-b329-82bbce876f29"
      },
      "source": [
        "from nltk.tokenize import RegexpTokenizer\n",
        "\n",
        "sentence = \"안녕하세요 ㅋㅋ 저는 자연어 처리(Natural Language Processing)를ㄹ!! 배우고 있습니다.\"\n",
        "\n",
        "tokenizer = RegexpTokenizer(\"[가-힣]+\")\n",
        "tokens = tokenizer.tokenize(sentence)\n",
        "tokens"
      ],
      "execution_count": 220,
      "outputs": [
        {
          "output_type": "execute_result",
          "data": {
            "text/plain": [
              "['안녕하세요', '저는', '자연어', '처리', '를', '배우고', '있습니다']"
            ]
          },
          "metadata": {},
          "execution_count": 220
        }
      ]
    },
    {
      "cell_type": "code",
      "metadata": {
        "id": "Wqrp8qLoi4Nh"
      },
      "source": [
        "# 특수기호, 영어 등은 제외하고 분석하게 된다."
      ],
      "execution_count": 221,
      "outputs": []
    },
    {
      "cell_type": "code",
      "metadata": {
        "colab": {
          "base_uri": "https://localhost:8080/"
        },
        "id": "S-7t-GZii6jg",
        "outputId": "5104f6c5-0510-4a57-835e-c6bf195a03f9"
      },
      "source": [
        "tokenizer = RegexpTokenizer(\"[ㄱ-ㅎ]+\", gaps=True) #\n",
        "tokens = tokenizer.tokenize(sentence)\n",
        "tokens"
      ],
      "execution_count": 222,
      "outputs": [
        {
          "output_type": "execute_result",
          "data": {
            "text/plain": [
              "['안녕하세요 ', ' 저는 자연어 처리(Natural Language Processing)를', '!! 배우고 있습니다.']"
            ]
          },
          "metadata": {},
          "execution_count": 222
        }
      ]
    },
    {
      "cell_type": "code",
      "metadata": {
        "id": "JEiuTn1pjCh-"
      },
      "source": [
        "# 자음 기준으로 토큰화를 진행하면 ㅋㅋ과 같은 이모티콘이나 ㄹ과 같은 오탈자를 제거한다."
      ],
      "execution_count": 223,
      "outputs": []
    },
    {
      "cell_type": "code",
      "metadata": {
        "colab": {
          "base_uri": "https://localhost:8080/"
        },
        "id": "Gn5FY_Qji9ud",
        "outputId": "0b3b847e-2bfa-4214-e043-77b57e333a22"
      },
      "source": [
        "tokenizer = RegexpTokenizer(\"[가-힣]+\", gaps=True) #\n",
        "tokens = tokenizer.tokenize(sentence)\n",
        "tokens"
      ],
      "execution_count": 219,
      "outputs": [
        {
          "output_type": "execute_result",
          "data": {
            "text/plain": [
              "[' ㅋㅋ ', ' ', ' ', '(Natural Language Processing)', '!! ', ' ', '.']"
            ]
          },
          "metadata": {},
          "execution_count": 219
        }
      ]
    },
    {
      "cell_type": "markdown",
      "metadata": {
        "id": "VemMlnrrjCHN"
      },
      "source": [
        "### Keras 토큰화"
      ]
    },
    {
      "cell_type": "code",
      "metadata": {
        "id": "OKREHypGjbTX"
      },
      "source": [
        "from keras.preprocessing.text import text_to_word_sequence"
      ],
      "execution_count": 225,
      "outputs": []
    },
    {
      "cell_type": "code",
      "metadata": {
        "colab": {
          "base_uri": "https://localhost:8080/"
        },
        "id": "oZ2iBZTnjN5e",
        "outputId": "304421ad-dd65-4b27-8a0c-7ef630afae28"
      },
      "source": [
        "sentence = '성공의 비결은 단 한 가지, 잘할 수 있는 일에 광적으로 집중하는 것이다.'\n",
        "\n",
        "text_to_word_sequence(sentence)"
      ],
      "execution_count": 226,
      "outputs": [
        {
          "output_type": "execute_result",
          "data": {
            "text/plain": [
              "['성공의', '비결은', '단', '한', '가지', '잘할', '수', '있는', '일에', '광적으로', '집중하는', '것이다']"
            ]
          },
          "metadata": {},
          "execution_count": 226
        }
      ]
    },
    {
      "cell_type": "markdown",
      "metadata": {
        "id": "zbDw0MOrje2U"
      },
      "source": [
        "### TextBlob 토큰화"
      ]
    },
    {
      "cell_type": "code",
      "metadata": {
        "id": "-mARj9zsjhlY"
      },
      "source": [
        "from textblob import TextBlob"
      ],
      "execution_count": 227,
      "outputs": []
    },
    {
      "cell_type": "code",
      "metadata": {
        "colab": {
          "base_uri": "https://localhost:8080/"
        },
        "id": "c4tCfI-6jkdg",
        "outputId": "ce271525-9697-4086-98cd-ef8c803d6773"
      },
      "source": [
        "blob = TextBlob(sentence)\n",
        "blob.words"
      ],
      "execution_count": 228,
      "outputs": [
        {
          "output_type": "execute_result",
          "data": {
            "text/plain": [
              "WordList(['성공의', '비결은', '단', '한', '가지', '잘할', '수', '있는', '일에', '광적으로', '집중하는', '것이다'])"
            ]
          },
          "metadata": {},
          "execution_count": 228
        }
      ]
    },
    {
      "cell_type": "markdown",
      "metadata": {
        "id": "0-4rfU1qjnQS"
      },
      "source": [
        "## BoW"
      ]
    },
    {
      "cell_type": "markdown",
      "metadata": {
        "id": "MxbrnogylkQv"
      },
      "source": [
        "##### english"
      ]
    },
    {
      "cell_type": "code",
      "metadata": {
        "id": "VibfqKXJjp6X"
      },
      "source": [
        "from sklearn.feature_extraction.text import CountVectorizer"
      ],
      "execution_count": 229,
      "outputs": []
    },
    {
      "cell_type": "code",
      "metadata": {
        "colab": {
          "base_uri": "https://localhost:8080/"
        },
        "id": "oOTLLjifkNhN",
        "outputId": "f96d607b-33d4-4310-bb8b-e046fb9c7864"
      },
      "source": [
        "corpus = [\"Think like a man of action and act like man of thought.\"]\n",
        "\n",
        "vector = CountVectorizer() # collections.Counter() 와 비슷\n",
        "bow = vector.fit_transform(corpus)\n",
        "\n",
        "print(vector.vocabulary_)\n",
        "print(bow.toarray())"
      ],
      "execution_count": 231,
      "outputs": [
        {
          "output_type": "stream",
          "name": "stdout",
          "text": [
            "{'think': 6, 'like': 3, 'man': 4, 'of': 5, 'action': 1, 'and': 2, 'act': 0, 'thought': 7}\n",
            "[[1 1 1 2 2 2 1 1]]\n"
          ]
        }
      ]
    },
    {
      "cell_type": "markdown",
      "metadata": {
        "id": "HbBpvHCrkf0Y"
      },
      "source": [
        "- ```vector.vocabulary_``` : 각각 단어와 인덱스\n",
        "- ```.toarray ```: 인덱스별로 단어의 개수\n",
        "- 해석: act는 voca에 0 위치에 있으므로 toarray 리스트의 0 위치는 1이므로 act는 한번 등장했다."
      ]
    },
    {
      "cell_type": "code",
      "metadata": {
        "colab": {
          "base_uri": "https://localhost:8080/"
        },
        "id": "sB3UmvvdlPCn",
        "outputId": "694f68fd-5a7a-4692-db84-fda9bddfd2a8"
      },
      "source": [
        "vector = CountVectorizer(stop_words='english')\n",
        "bow = vector.fit_transform(corpus)\n",
        "\n",
        "print(vector.vocabulary_)\n",
        "print(bow.toarray())"
      ],
      "execution_count": 232,
      "outputs": [
        {
          "output_type": "stream",
          "name": "stdout",
          "text": [
            "{'think': 4, 'like': 2, 'man': 3, 'action': 1, 'act': 0, 'thought': 5}\n",
            "[[1 1 2 2 1 1]]\n"
          ]
        }
      ]
    },
    {
      "cell_type": "code",
      "metadata": {
        "id": "WZLlBZymlaUK"
      },
      "source": [
        "# 불용어 처리로 'of'가 빠지게 된다."
      ],
      "execution_count": 233,
      "outputs": []
    },
    {
      "cell_type": "markdown",
      "metadata": {
        "id": "6YBxS12Yld0N"
      },
      "source": [
        "##### korean"
      ]
    },
    {
      "cell_type": "code",
      "metadata": {
        "colab": {
          "base_uri": "https://localhost:8080/"
        },
        "id": "ppGewauDljH8",
        "outputId": "536ae11a-dc4c-44f8-ed11-c9503ebd30d3"
      },
      "source": [
        "corpus = [\"평생 살 것처럼 꿈을 꾸어라. 그리고 내일 죽을 것처럼 오늘을 살아라.\"]\n",
        "\n",
        "vector = CountVectorizer()\n",
        "bow = vector.fit_transform(corpus)\n",
        "\n",
        "print(vector.vocabulary_)\n",
        "print(bow.toarray())"
      ],
      "execution_count": 235,
      "outputs": [
        {
          "output_type": "stream",
          "name": "stdout",
          "text": [
            "{'평생': 8, '것처럼': 0, '꿈을': 3, '꾸어라': 2, '그리고': 1, '내일': 4, '죽을': 7, '오늘을': 6, '살아라': 5}\n",
            "[[2 1 1 1 1 1 1 1 1]]\n"
          ]
        }
      ]
    },
    {
      "cell_type": "code",
      "metadata": {
        "id": "S2oQ245dlse0"
      },
      "source": [
        "# 한글은 공백을 기준으로 분석하기엔 한계가 있다. (예시) 죽을, 것처럼"
      ],
      "execution_count": 236,
      "outputs": []
    },
    {
      "cell_type": "markdown",
      "metadata": {
        "id": "VTPsnGlel4Gm"
      },
      "source": [
        "##### konlpy"
      ]
    },
    {
      "cell_type": "code",
      "metadata": {
        "id": "nmkJdpYPl7pJ"
      },
      "source": [
        "import re\n",
        "from konlpy.tag import Mecab"
      ],
      "execution_count": 237,
      "outputs": []
    },
    {
      "cell_type": "code",
      "metadata": {
        "colab": {
          "base_uri": "https://localhost:8080/"
        },
        "id": "dRpFXeyIl_OW",
        "outputId": "b22b36fa-4cb7-4c0e-9948-8708a3607b8c"
      },
      "source": [
        "tagger = Mecab()\n",
        "\n",
        "corpus = \"평생 살 것처럼 꿈을 꾸어라. 그리고 내일 죽을 것처럼 오늘을 살아라.\"\n",
        "tokens = tagger.morphs(re.sub(\"(\\.)\", \"\", corpus))\n",
        "\n",
        "vocab = {}\n",
        "bow = []\n",
        "\n",
        "for tok in tokens:\n",
        "    if tok not in vocab.keys():\n",
        "        vocab[tok] = len(vocab)\n",
        "        bow.insert(len(vocab)-1, 1)\n",
        "        # print(vocab)\n",
        "    else:\n",
        "        index = vocab.get(tok)\n",
        "        bow[index] = bow[index] + 1\n",
        "\n",
        "print(bow) # 개수\n",
        "print(vocab) # 단어와 인덱스"
      ],
      "execution_count": 241,
      "outputs": [
        {
          "output_type": "stream",
          "name": "stdout",
          "text": [
            "[1, 2, 2, 2, 1, 3, 1, 1, 1, 1, 1, 1, 1]\n",
            "{'평생': 0, '살': 1, '것': 2, '처럼': 3, '꿈': 4, '을': 5, '꾸': 6, '어라': 7, '그리고': 8, '내일': 9, '죽': 10, '오늘': 11, '아라': 12}\n"
          ]
        }
      ]
    },
    {
      "cell_type": "code",
      "metadata": {
        "id": "jW_HGorOmyTx"
      },
      "source": [
        "# CountVectorizer의 구조를 따라해보았다."
      ],
      "execution_count": 242,
      "outputs": []
    },
    {
      "cell_type": "markdown",
      "metadata": {
        "id": "HLeDfSQJnNMj"
      },
      "source": [
        "## 문서 단어 행렬 (DTM)"
      ]
    },
    {
      "cell_type": "markdown",
      "metadata": {
        "id": "uUhvx_TAnP_A"
      },
      "source": [
        "- 문서에 등장하는 여러 단어들의 빈도를 행렬로 표현\n",
        "- BoW를 하나의 행렬로 표현한 것"
      ]
    },
    {
      "cell_type": "code",
      "metadata": {
        "id": "SFx05Ev5nWhh"
      },
      "source": [
        "from sklearn.feature_extraction.text import CountVectorizer"
      ],
      "execution_count": 243,
      "outputs": []
    },
    {
      "cell_type": "code",
      "metadata": {
        "colab": {
          "base_uri": "https://localhost:8080/"
        },
        "id": "g8ei_L7kneWh",
        "outputId": "88fd0518-1342-4ec4-aab3-7231a45a0418"
      },
      "source": [
        "corpus = [\"Think like a man of action and act like man of thought.\",\n",
        "          \"Try not to become a man of success but rather try to become a man of value.\",\n",
        "          \"Give me liberty, of give me death.\"]\n",
        "\n",
        "vector = CountVectorizer(stop_words='english')\n",
        "bow = vector.fit_transform(corpus)\n",
        "\n",
        "print(vector.vocabulary_)\n",
        "print(bow.toarray())"
      ],
      "execution_count": 246,
      "outputs": [
        {
          "output_type": "stream",
          "name": "stdout",
          "text": [
            "{'think': 7, 'like': 4, 'man': 5, 'action': 1, 'act': 0, 'thought': 8, 'try': 9, 'success': 6, 'value': 10, 'liberty': 3, 'death': 2}\n",
            "[[1 1 0 0 2 2 0 1 1 0 0]\n",
            " [0 0 0 0 0 2 1 0 0 2 1]\n",
            " [0 0 1 1 0 0 0 0 0 0 0]]\n"
          ]
        }
      ]
    },
    {
      "cell_type": "code",
      "metadata": {
        "id": "6ddAG09Fnfbo"
      },
      "source": [
        "columns = []\n",
        "for k, v in sorted(vector.vocabulary_.items(), key=lambda item:item[1]):\n",
        "    columns.append(k)"
      ],
      "execution_count": 248,
      "outputs": []
    },
    {
      "cell_type": "code",
      "metadata": {
        "id": "I-hyRub3oPzV"
      },
      "source": [
        "import pandas as pd"
      ],
      "execution_count": 249,
      "outputs": []
    },
    {
      "cell_type": "code",
      "metadata": {
        "colab": {
          "base_uri": "https://localhost:8080/",
          "height": 142
        },
        "id": "cFQESb3woV-f",
        "outputId": "d3d3d7f7-143d-4435-9200-4c0842dc015c"
      },
      "source": [
        "df = pd.DataFrame(bow.toarray(), columns=columns)\n",
        "df"
      ],
      "execution_count": 251,
      "outputs": [
        {
          "output_type": "execute_result",
          "data": {
            "text/html": [
              "<div>\n",
              "<style scoped>\n",
              "    .dataframe tbody tr th:only-of-type {\n",
              "        vertical-align: middle;\n",
              "    }\n",
              "\n",
              "    .dataframe tbody tr th {\n",
              "        vertical-align: top;\n",
              "    }\n",
              "\n",
              "    .dataframe thead th {\n",
              "        text-align: right;\n",
              "    }\n",
              "</style>\n",
              "<table border=\"1\" class=\"dataframe\">\n",
              "  <thead>\n",
              "    <tr style=\"text-align: right;\">\n",
              "      <th></th>\n",
              "      <th>act</th>\n",
              "      <th>action</th>\n",
              "      <th>death</th>\n",
              "      <th>liberty</th>\n",
              "      <th>like</th>\n",
              "      <th>man</th>\n",
              "      <th>success</th>\n",
              "      <th>think</th>\n",
              "      <th>thought</th>\n",
              "      <th>try</th>\n",
              "      <th>value</th>\n",
              "    </tr>\n",
              "  </thead>\n",
              "  <tbody>\n",
              "    <tr>\n",
              "      <th>0</th>\n",
              "      <td>1</td>\n",
              "      <td>1</td>\n",
              "      <td>0</td>\n",
              "      <td>0</td>\n",
              "      <td>2</td>\n",
              "      <td>2</td>\n",
              "      <td>0</td>\n",
              "      <td>1</td>\n",
              "      <td>1</td>\n",
              "      <td>0</td>\n",
              "      <td>0</td>\n",
              "    </tr>\n",
              "    <tr>\n",
              "      <th>1</th>\n",
              "      <td>0</td>\n",
              "      <td>0</td>\n",
              "      <td>0</td>\n",
              "      <td>0</td>\n",
              "      <td>0</td>\n",
              "      <td>2</td>\n",
              "      <td>1</td>\n",
              "      <td>0</td>\n",
              "      <td>0</td>\n",
              "      <td>2</td>\n",
              "      <td>1</td>\n",
              "    </tr>\n",
              "    <tr>\n",
              "      <th>2</th>\n",
              "      <td>0</td>\n",
              "      <td>0</td>\n",
              "      <td>1</td>\n",
              "      <td>1</td>\n",
              "      <td>0</td>\n",
              "      <td>0</td>\n",
              "      <td>0</td>\n",
              "      <td>0</td>\n",
              "      <td>0</td>\n",
              "      <td>0</td>\n",
              "      <td>0</td>\n",
              "    </tr>\n",
              "  </tbody>\n",
              "</table>\n",
              "</div>"
            ],
            "text/plain": [
              "   act  action  death  liberty  like  man  success  think  thought  try  value\n",
              "0    1       1      0        0     2    2        0      1        1    0      0\n",
              "1    0       0      0        0     0    2        1      0        0    2      1\n",
              "2    0       0      1        1     0    0        0      0        0    0      0"
            ]
          },
          "metadata": {},
          "execution_count": 251
        }
      ]
    },
    {
      "cell_type": "markdown",
      "metadata": {
        "id": "55BXujZ-oZSC"
      },
      "source": [
        "# 어휘 빈도-문서 역빈도 분석 (TF-IDF)"
      ]
    },
    {
      "cell_type": "markdown",
      "metadata": {
        "id": "XHOGX4_go9G-"
      },
      "source": [
        "- 단순히 빈도수가 높은 단어가 핵심어가 아닌, 특정 문서에서만 집중적으로 등자할 때 해당 단어가 문제의 주제를 담는 핵심어라 가정\n",
        "- 특히 다른 문서에서는 적게 등장하나, 특정 문서에서 많이 등장하는 특정 단어를 핵심어로 간주\n",
        "- TF-IDF는 어휘빈도와 역문서 빈도를 곱해 계산 가능"
      ]
    },
    {
      "cell_type": "markdown",
      "metadata": {
        "id": "IgbfbfGVpUEZ"
      },
      "source": [
        "* **어휘 빈도**는 특정 문서에서 특정 단어가 많이 등장하는 것을 의미 (TF, BoW나 DTM)\n",
        "\n",
        "$$ tf_{x,y} $$"
      ]
    },
    {
      "cell_type": "markdown",
      "metadata": {
        "id": "Ya988etHpbRg"
      },
      "source": [
        "* **역문서 빈도**는 다른 문서에서 등장하지 않는 단어 빈도를 의미\n",
        "\n",
        "$$ log(N/df_x) $$      "
      ]
    },
    {
      "cell_type": "markdown",
      "metadata": {
        "id": "vu04yXx0pc1y"
      },
      "source": [
        "* **어휘 빈도-문서 역빈도**는 다음과 같이 표현\n",
        "\n",
        "$$ W_{x,y} = tf_{x,y} * log(N/df_x) $$"
      ]
    },
    {
      "cell_type": "markdown",
      "metadata": {
        "id": "5tANyB5zpebF"
      },
      "source": [
        "##### ```sklearn```의 ```tfidfvectorizer```"
      ]
    },
    {
      "cell_type": "code",
      "metadata": {
        "id": "rKW4h3aEp-m0"
      },
      "source": [
        "from sklearn.feature_extraction.text import TfidfVectorizer"
      ],
      "execution_count": 255,
      "outputs": []
    },
    {
      "cell_type": "code",
      "metadata": {
        "colab": {
          "base_uri": "https://localhost:8080/"
        },
        "id": "J4mT3mWsqCu2",
        "outputId": "cbd05029-0b77-4ca6-dda2-ea013db8449f"
      },
      "source": [
        "tfidf = TfidfVectorizer(stop_words='english').fit(corpus)\n",
        "\n",
        "print(tfidf.transform(corpus).toarray())\n",
        "print(tfidf.vocabulary_)"
      ],
      "execution_count": 256,
      "outputs": [
        {
          "output_type": "stream",
          "name": "stdout",
          "text": [
            "[[0.311383   0.311383   0.         0.         0.62276601 0.4736296\n",
            "  0.         0.311383   0.311383   0.         0.        ]\n",
            " [0.         0.         0.         0.         0.         0.52753275\n",
            "  0.34682109 0.         0.         0.69364217 0.34682109]\n",
            " [0.         0.         0.70710678 0.70710678 0.         0.\n",
            "  0.         0.         0.         0.         0.        ]]\n",
            "{'think': 7, 'like': 4, 'man': 5, 'action': 1, 'act': 0, 'thought': 8, 'try': 9, 'success': 6, 'value': 10, 'liberty': 3, 'death': 2}\n"
          ]
        }
      ]
    },
    {
      "cell_type": "code",
      "metadata": {
        "colab": {
          "base_uri": "https://localhost:8080/",
          "height": 142
        },
        "id": "tkszfVaEqR8J",
        "outputId": "d3cdb949-7089-4e7d-9f98-278918b55fc0"
      },
      "source": [
        "columns = []\n",
        "for k, v in sorted(tfidf.vocabulary_.items(), key=lambda item:item[1]):\n",
        "    columns.append(k)\n",
        "\n",
        "pd.DataFrame(tfidf.transform(corpus).toarray(), columns=columns)"
      ],
      "execution_count": 261,
      "outputs": [
        {
          "output_type": "execute_result",
          "data": {
            "text/html": [
              "<div>\n",
              "<style scoped>\n",
              "    .dataframe tbody tr th:only-of-type {\n",
              "        vertical-align: middle;\n",
              "    }\n",
              "\n",
              "    .dataframe tbody tr th {\n",
              "        vertical-align: top;\n",
              "    }\n",
              "\n",
              "    .dataframe thead th {\n",
              "        text-align: right;\n",
              "    }\n",
              "</style>\n",
              "<table border=\"1\" class=\"dataframe\">\n",
              "  <thead>\n",
              "    <tr style=\"text-align: right;\">\n",
              "      <th></th>\n",
              "      <th>act</th>\n",
              "      <th>action</th>\n",
              "      <th>death</th>\n",
              "      <th>liberty</th>\n",
              "      <th>like</th>\n",
              "      <th>man</th>\n",
              "      <th>success</th>\n",
              "      <th>think</th>\n",
              "      <th>thought</th>\n",
              "      <th>try</th>\n",
              "      <th>value</th>\n",
              "    </tr>\n",
              "  </thead>\n",
              "  <tbody>\n",
              "    <tr>\n",
              "      <th>0</th>\n",
              "      <td>0.311383</td>\n",
              "      <td>0.311383</td>\n",
              "      <td>0.000000</td>\n",
              "      <td>0.000000</td>\n",
              "      <td>0.622766</td>\n",
              "      <td>0.473630</td>\n",
              "      <td>0.000000</td>\n",
              "      <td>0.311383</td>\n",
              "      <td>0.311383</td>\n",
              "      <td>0.000000</td>\n",
              "      <td>0.000000</td>\n",
              "    </tr>\n",
              "    <tr>\n",
              "      <th>1</th>\n",
              "      <td>0.000000</td>\n",
              "      <td>0.000000</td>\n",
              "      <td>0.000000</td>\n",
              "      <td>0.000000</td>\n",
              "      <td>0.000000</td>\n",
              "      <td>0.527533</td>\n",
              "      <td>0.346821</td>\n",
              "      <td>0.000000</td>\n",
              "      <td>0.000000</td>\n",
              "      <td>0.693642</td>\n",
              "      <td>0.346821</td>\n",
              "    </tr>\n",
              "    <tr>\n",
              "      <th>2</th>\n",
              "      <td>0.000000</td>\n",
              "      <td>0.000000</td>\n",
              "      <td>0.707107</td>\n",
              "      <td>0.707107</td>\n",
              "      <td>0.000000</td>\n",
              "      <td>0.000000</td>\n",
              "      <td>0.000000</td>\n",
              "      <td>0.000000</td>\n",
              "      <td>0.000000</td>\n",
              "      <td>0.000000</td>\n",
              "      <td>0.000000</td>\n",
              "    </tr>\n",
              "  </tbody>\n",
              "</table>\n",
              "</div>"
            ],
            "text/plain": [
              "        act    action     death  ...   thought       try     value\n",
              "0  0.311383  0.311383  0.000000  ...  0.311383  0.000000  0.000000\n",
              "1  0.000000  0.000000  0.000000  ...  0.000000  0.693642  0.346821\n",
              "2  0.000000  0.000000  0.707107  ...  0.000000  0.000000  0.000000\n",
              "\n",
              "[3 rows x 11 columns]"
            ]
          },
          "metadata": {},
          "execution_count": 261
        }
      ]
    },
    {
      "cell_type": "markdown",
      "metadata": {
        "id": "3sxsaY3zqwAN"
      },
      "source": [
        "#### 해석\n",
        "- 첫번째 문서[0]에서 가장 자주 나온 act보다 오히려 like가 DTM 결과보다 더 높게 나왔다.\n",
        "- 마지막 문서[2]에서 death와 liberty가 동일한 TF-IDF 결과를 가진다.\n",
        "- NLP 분석에서 크게 Count가 중요한 경우와 TF-IDF가 중요한 경우 두 가지가 있으며 경우에 따라서 활용한다."
      ]
    }
  ]
}